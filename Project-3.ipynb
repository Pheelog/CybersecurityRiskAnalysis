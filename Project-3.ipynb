{
 "cells": [
  {
   "cell_type": "code",
   "execution_count": null,
   "metadata": {},
   "outputs": [],
   "source": [
    "#Arundarasi Rajendran\n",
    "#16edc6705b41f000"
   ]
  },
  {
   "cell_type": "code",
   "execution_count": 1,
   "metadata": {},
   "outputs": [],
   "source": [
    "import numpy as np\n",
    "import pandas as pd\n",
    "import zipfile\n",
    "import os\n",
    "from scipy.stats import pearsonr\n",
    "\n",
    "import matplotlib.pyplot as plt\n",
    "import seaborn as sns\n",
    "\n",
    "from scipy.stats import f_oneway\n",
    "from scipy.stats import chi2_contingency"
   ]
  },
  {
   "cell_type": "code",
   "execution_count": 2,
   "metadata": {},
   "outputs": [
    {
     "data": {
      "text/html": [
       "<div>\n",
       "<style scoped>\n",
       "    .dataframe tbody tr th:only-of-type {\n",
       "        vertical-align: middle;\n",
       "    }\n",
       "\n",
       "    .dataframe tbody tr th {\n",
       "        vertical-align: top;\n",
       "    }\n",
       "\n",
       "    .dataframe thead th {\n",
       "        text-align: right;\n",
       "    }\n",
       "</style>\n",
       "<table border=\"1\" class=\"dataframe\">\n",
       "  <thead>\n",
       "    <tr style=\"text-align: right;\">\n",
       "      <th></th>\n",
       "      <th>cve_id</th>\n",
       "      <th>vendor_project</th>\n",
       "      <th>product</th>\n",
       "      <th>vulnerability_name</th>\n",
       "      <th>date_added</th>\n",
       "      <th>short_description</th>\n",
       "      <th>required_action</th>\n",
       "      <th>due_date</th>\n",
       "      <th>notes</th>\n",
       "      <th>grp</th>\n",
       "      <th>pub_date</th>\n",
       "      <th>cvss</th>\n",
       "      <th>cwe</th>\n",
       "      <th>vector</th>\n",
       "      <th>complexity</th>\n",
       "      <th>severity</th>\n",
       "    </tr>\n",
       "  </thead>\n",
       "  <tbody>\n",
       "    <tr>\n",
       "      <th>0</th>\n",
       "      <td>CVE-2021-27104</td>\n",
       "      <td>accellion</td>\n",
       "      <td>FTA</td>\n",
       "      <td>Accellion FTA OS Command Injection Vulnerability</td>\n",
       "      <td>2021-11-03</td>\n",
       "      <td>Accellion FTA 9_12_370 and earlier is affected...</td>\n",
       "      <td>Apply updates per vendor instructions.</td>\n",
       "      <td>2021-11-17</td>\n",
       "      <td>NaN</td>\n",
       "      <td>1</td>\n",
       "      <td>2021-02-16</td>\n",
       "      <td>9.8</td>\n",
       "      <td>CWE-78</td>\n",
       "      <td>NETWORK</td>\n",
       "      <td>LOW</td>\n",
       "      <td>CRITICAL</td>\n",
       "    </tr>\n",
       "    <tr>\n",
       "      <th>1</th>\n",
       "      <td>CVE-2021-27102</td>\n",
       "      <td>accellion</td>\n",
       "      <td>FTA</td>\n",
       "      <td>Accellion FTA OS Command Injection Vulnerability</td>\n",
       "      <td>2021-11-03</td>\n",
       "      <td>Accellion FTA 9_12_411 and earlier is affected...</td>\n",
       "      <td>Apply updates per vendor instructions.</td>\n",
       "      <td>2021-11-17</td>\n",
       "      <td>NaN</td>\n",
       "      <td>1</td>\n",
       "      <td>NaN</td>\n",
       "      <td>NaN</td>\n",
       "      <td>NaN</td>\n",
       "      <td>NaN</td>\n",
       "      <td>NaN</td>\n",
       "      <td>NaN</td>\n",
       "    </tr>\n",
       "    <tr>\n",
       "      <th>2</th>\n",
       "      <td>CVE-2021-27101</td>\n",
       "      <td>accellion</td>\n",
       "      <td>FTA</td>\n",
       "      <td>Accellion FTA SQL Injection Vulnerability</td>\n",
       "      <td>2021-11-03</td>\n",
       "      <td>Accellion FTA 9_12_370 and earlier is affected...</td>\n",
       "      <td>Apply updates per vendor instructions.</td>\n",
       "      <td>2021-11-17</td>\n",
       "      <td>NaN</td>\n",
       "      <td>1</td>\n",
       "      <td>NaN</td>\n",
       "      <td>NaN</td>\n",
       "      <td>NaN</td>\n",
       "      <td>NaN</td>\n",
       "      <td>NaN</td>\n",
       "      <td>NaN</td>\n",
       "    </tr>\n",
       "    <tr>\n",
       "      <th>3</th>\n",
       "      <td>CVE-2021-27103</td>\n",
       "      <td>accellion</td>\n",
       "      <td>FTA</td>\n",
       "      <td>Accellion FTA SSRF Vulnerability</td>\n",
       "      <td>2021-11-03</td>\n",
       "      <td>Accellion FTA 9_12_411 and earlier is affected...</td>\n",
       "      <td>Apply updates per vendor instructions.</td>\n",
       "      <td>2021-11-17</td>\n",
       "      <td>NaN</td>\n",
       "      <td>1</td>\n",
       "      <td>NaN</td>\n",
       "      <td>NaN</td>\n",
       "      <td>NaN</td>\n",
       "      <td>NaN</td>\n",
       "      <td>NaN</td>\n",
       "      <td>NaN</td>\n",
       "    </tr>\n",
       "    <tr>\n",
       "      <th>4</th>\n",
       "      <td>CVE-2021-21017</td>\n",
       "      <td>adobe</td>\n",
       "      <td>Acrobat and Reader</td>\n",
       "      <td>Adobe Acrobat and Reader Heap-based Buffer Ove...</td>\n",
       "      <td>2021-11-03</td>\n",
       "      <td>Acrobat Reader DC versions versions 2020.013.2...</td>\n",
       "      <td>Apply updates per vendor instructions.</td>\n",
       "      <td>2021-11-17</td>\n",
       "      <td>NaN</td>\n",
       "      <td>1</td>\n",
       "      <td>NaN</td>\n",
       "      <td>NaN</td>\n",
       "      <td>NaN</td>\n",
       "      <td>NaN</td>\n",
       "      <td>NaN</td>\n",
       "      <td>NaN</td>\n",
       "    </tr>\n",
       "  </tbody>\n",
       "</table>\n",
       "</div>"
      ],
      "text/plain": [
       "           cve_id vendor_project             product  \\\n",
       "0  CVE-2021-27104      accellion                 FTA   \n",
       "1  CVE-2021-27102      accellion                 FTA   \n",
       "2  CVE-2021-27101      accellion                 FTA   \n",
       "3  CVE-2021-27103      accellion                 FTA   \n",
       "4  CVE-2021-21017          adobe  Acrobat and Reader   \n",
       "\n",
       "                                  vulnerability_name  date_added  \\\n",
       "0   Accellion FTA OS Command Injection Vulnerability  2021-11-03   \n",
       "1   Accellion FTA OS Command Injection Vulnerability  2021-11-03   \n",
       "2          Accellion FTA SQL Injection Vulnerability  2021-11-03   \n",
       "3                   Accellion FTA SSRF Vulnerability  2021-11-03   \n",
       "4  Adobe Acrobat and Reader Heap-based Buffer Ove...  2021-11-03   \n",
       "\n",
       "                                   short_description  \\\n",
       "0  Accellion FTA 9_12_370 and earlier is affected...   \n",
       "1  Accellion FTA 9_12_411 and earlier is affected...   \n",
       "2  Accellion FTA 9_12_370 and earlier is affected...   \n",
       "3  Accellion FTA 9_12_411 and earlier is affected...   \n",
       "4  Acrobat Reader DC versions versions 2020.013.2...   \n",
       "\n",
       "                          required_action    due_date notes  grp    pub_date  \\\n",
       "0  Apply updates per vendor instructions.  2021-11-17   NaN    1  2021-02-16   \n",
       "1  Apply updates per vendor instructions.  2021-11-17   NaN    1         NaN   \n",
       "2  Apply updates per vendor instructions.  2021-11-17   NaN    1         NaN   \n",
       "3  Apply updates per vendor instructions.  2021-11-17   NaN    1         NaN   \n",
       "4  Apply updates per vendor instructions.  2021-11-17   NaN    1         NaN   \n",
       "\n",
       "   cvss     cwe   vector complexity  severity  \n",
       "0   9.8  CWE-78  NETWORK        LOW  CRITICAL  \n",
       "1   NaN     NaN      NaN        NaN       NaN  \n",
       "2   NaN     NaN      NaN        NaN       NaN  \n",
       "3   NaN     NaN      NaN        NaN       NaN  \n",
       "4   NaN     NaN      NaN        NaN       NaN  "
      ]
     },
     "execution_count": 2,
     "metadata": {},
     "output_type": "execute_result"
    }
   ],
   "source": [
    "df = pd.concat(map(pd.read_csv,['2022-12-09-enriched.csv','2022-07-04-enriched.csv','2022-06-27-enriched.csv','2022-06-09-enriched.csv','2022-06-08-enriched.csv']))\n",
    "df.reset_index(drop=True, inplace=True)\n",
    "df.head()"
   ]
  },
  {
   "cell_type": "code",
   "execution_count": 3,
   "metadata": {},
   "outputs": [
    {
     "data": {
      "text/plain": [
       "(3984, 16)"
      ]
     },
     "execution_count": 3,
     "metadata": {},
     "output_type": "execute_result"
    }
   ],
   "source": [
    "# count of rows and number of columns\n",
    "df.shape"
   ]
  },
  {
   "cell_type": "code",
   "execution_count": 4,
   "metadata": {},
   "outputs": [
    {
     "data": {
      "text/html": [
       "<div>\n",
       "<style scoped>\n",
       "    .dataframe tbody tr th:only-of-type {\n",
       "        vertical-align: middle;\n",
       "    }\n",
       "\n",
       "    .dataframe tbody tr th {\n",
       "        vertical-align: top;\n",
       "    }\n",
       "\n",
       "    .dataframe thead th {\n",
       "        text-align: right;\n",
       "    }\n",
       "</style>\n",
       "<table border=\"1\" class=\"dataframe\">\n",
       "  <thead>\n",
       "    <tr style=\"text-align: right;\">\n",
       "      <th></th>\n",
       "      <th>cve_id</th>\n",
       "      <th>vendor_project</th>\n",
       "      <th>product</th>\n",
       "      <th>vulnerability_name</th>\n",
       "      <th>date_added</th>\n",
       "      <th>short_description</th>\n",
       "      <th>required_action</th>\n",
       "      <th>due_date</th>\n",
       "      <th>notes</th>\n",
       "      <th>grp</th>\n",
       "      <th>pub_date</th>\n",
       "      <th>cvss</th>\n",
       "      <th>cwe</th>\n",
       "      <th>vector</th>\n",
       "      <th>complexity</th>\n",
       "      <th>severity</th>\n",
       "    </tr>\n",
       "  </thead>\n",
       "  <tbody>\n",
       "    <tr>\n",
       "      <th>count</th>\n",
       "      <td>3984</td>\n",
       "      <td>3984</td>\n",
       "      <td>3979</td>\n",
       "      <td>3984</td>\n",
       "      <td>3984</td>\n",
       "      <td>3954</td>\n",
       "      <td>3984</td>\n",
       "      <td>3984</td>\n",
       "      <td>77</td>\n",
       "      <td>3984.000000</td>\n",
       "      <td>3106</td>\n",
       "      <td>2484.000000</td>\n",
       "      <td>3090</td>\n",
       "      <td>2484</td>\n",
       "      <td>2484</td>\n",
       "      <td>2484</td>\n",
       "    </tr>\n",
       "    <tr>\n",
       "      <th>unique</th>\n",
       "      <td>860</td>\n",
       "      <td>140</td>\n",
       "      <td>374</td>\n",
       "      <td>690</td>\n",
       "      <td>64</td>\n",
       "      <td>825</td>\n",
       "      <td>10</td>\n",
       "      <td>79</td>\n",
       "      <td>67</td>\n",
       "      <td>NaN</td>\n",
       "      <td>486</td>\n",
       "      <td>NaN</td>\n",
       "      <td>81</td>\n",
       "      <td>3</td>\n",
       "      <td>2</td>\n",
       "      <td>4</td>\n",
       "    </tr>\n",
       "    <tr>\n",
       "      <th>top</th>\n",
       "      <td>CVE-2020-1631</td>\n",
       "      <td>microsoft</td>\n",
       "      <td>Windows</td>\n",
       "      <td>Microsoft Win32k Privilege Escalation Vulnerab...</td>\n",
       "      <td>2021-11-03</td>\n",
       "      <td>A vulnerability in Cisco Small Business RV160,...</td>\n",
       "      <td>Apply updates per vendor instructions.</td>\n",
       "      <td>2022-05-03</td>\n",
       "      <td>https://www.gigabyte.com/Support/Security/1801</td>\n",
       "      <td>NaN</td>\n",
       "      <td>2018-03-28</td>\n",
       "      <td>NaN</td>\n",
       "      <td>NVD-CWE-noinfo</td>\n",
       "      <td>NETWORK</td>\n",
       "      <td>LOW</td>\n",
       "      <td>HIGH</td>\n",
       "    </tr>\n",
       "    <tr>\n",
       "      <th>freq</th>\n",
       "      <td>5</td>\n",
       "      <td>1174</td>\n",
       "      <td>405</td>\n",
       "      <td>80</td>\n",
       "      <td>1435</td>\n",
       "      <td>25</td>\n",
       "      <td>3716</td>\n",
       "      <td>870</td>\n",
       "      <td>4</td>\n",
       "      <td>NaN</td>\n",
       "      <td>60</td>\n",
       "      <td>NaN</td>\n",
       "      <td>492</td>\n",
       "      <td>1822</td>\n",
       "      <td>2258</td>\n",
       "      <td>1382</td>\n",
       "    </tr>\n",
       "    <tr>\n",
       "      <th>mean</th>\n",
       "      <td>NaN</td>\n",
       "      <td>NaN</td>\n",
       "      <td>NaN</td>\n",
       "      <td>NaN</td>\n",
       "      <td>NaN</td>\n",
       "      <td>NaN</td>\n",
       "      <td>NaN</td>\n",
       "      <td>NaN</td>\n",
       "      <td>NaN</td>\n",
       "      <td>14.417922</td>\n",
       "      <td>NaN</td>\n",
       "      <td>8.412440</td>\n",
       "      <td>NaN</td>\n",
       "      <td>NaN</td>\n",
       "      <td>NaN</td>\n",
       "      <td>NaN</td>\n",
       "    </tr>\n",
       "    <tr>\n",
       "      <th>std</th>\n",
       "      <td>NaN</td>\n",
       "      <td>NaN</td>\n",
       "      <td>NaN</td>\n",
       "      <td>NaN</td>\n",
       "      <td>NaN</td>\n",
       "      <td>NaN</td>\n",
       "      <td>NaN</td>\n",
       "      <td>NaN</td>\n",
       "      <td>NaN</td>\n",
       "      <td>13.401496</td>\n",
       "      <td>NaN</td>\n",
       "      <td>1.302686</td>\n",
       "      <td>NaN</td>\n",
       "      <td>NaN</td>\n",
       "      <td>NaN</td>\n",
       "      <td>NaN</td>\n",
       "    </tr>\n",
       "    <tr>\n",
       "      <th>min</th>\n",
       "      <td>NaN</td>\n",
       "      <td>NaN</td>\n",
       "      <td>NaN</td>\n",
       "      <td>NaN</td>\n",
       "      <td>NaN</td>\n",
       "      <td>NaN</td>\n",
       "      <td>NaN</td>\n",
       "      <td>NaN</td>\n",
       "      <td>NaN</td>\n",
       "      <td>1.000000</td>\n",
       "      <td>NaN</td>\n",
       "      <td>3.100000</td>\n",
       "      <td>NaN</td>\n",
       "      <td>NaN</td>\n",
       "      <td>NaN</td>\n",
       "      <td>NaN</td>\n",
       "    </tr>\n",
       "    <tr>\n",
       "      <th>25%</th>\n",
       "      <td>NaN</td>\n",
       "      <td>NaN</td>\n",
       "      <td>NaN</td>\n",
       "      <td>NaN</td>\n",
       "      <td>NaN</td>\n",
       "      <td>NaN</td>\n",
       "      <td>NaN</td>\n",
       "      <td>NaN</td>\n",
       "      <td>NaN</td>\n",
       "      <td>1.000000</td>\n",
       "      <td>NaN</td>\n",
       "      <td>7.800000</td>\n",
       "      <td>NaN</td>\n",
       "      <td>NaN</td>\n",
       "      <td>NaN</td>\n",
       "      <td>NaN</td>\n",
       "    </tr>\n",
       "    <tr>\n",
       "      <th>50%</th>\n",
       "      <td>NaN</td>\n",
       "      <td>NaN</td>\n",
       "      <td>NaN</td>\n",
       "      <td>NaN</td>\n",
       "      <td>NaN</td>\n",
       "      <td>NaN</td>\n",
       "      <td>NaN</td>\n",
       "      <td>NaN</td>\n",
       "      <td>NaN</td>\n",
       "      <td>16.000000</td>\n",
       "      <td>NaN</td>\n",
       "      <td>8.800000</td>\n",
       "      <td>NaN</td>\n",
       "      <td>NaN</td>\n",
       "      <td>NaN</td>\n",
       "      <td>NaN</td>\n",
       "    </tr>\n",
       "    <tr>\n",
       "      <th>75%</th>\n",
       "      <td>NaN</td>\n",
       "      <td>NaN</td>\n",
       "      <td>NaN</td>\n",
       "      <td>NaN</td>\n",
       "      <td>NaN</td>\n",
       "      <td>NaN</td>\n",
       "      <td>NaN</td>\n",
       "      <td>NaN</td>\n",
       "      <td>NaN</td>\n",
       "      <td>20.000000</td>\n",
       "      <td>NaN</td>\n",
       "      <td>9.800000</td>\n",
       "      <td>NaN</td>\n",
       "      <td>NaN</td>\n",
       "      <td>NaN</td>\n",
       "      <td>NaN</td>\n",
       "    </tr>\n",
       "    <tr>\n",
       "      <th>max</th>\n",
       "      <td>NaN</td>\n",
       "      <td>NaN</td>\n",
       "      <td>NaN</td>\n",
       "      <td>NaN</td>\n",
       "      <td>NaN</td>\n",
       "      <td>NaN</td>\n",
       "      <td>NaN</td>\n",
       "      <td>NaN</td>\n",
       "      <td>NaN</td>\n",
       "      <td>64.000000</td>\n",
       "      <td>NaN</td>\n",
       "      <td>10.000000</td>\n",
       "      <td>NaN</td>\n",
       "      <td>NaN</td>\n",
       "      <td>NaN</td>\n",
       "      <td>NaN</td>\n",
       "    </tr>\n",
       "  </tbody>\n",
       "</table>\n",
       "</div>"
      ],
      "text/plain": [
       "               cve_id vendor_project  product  \\\n",
       "count            3984           3984     3979   \n",
       "unique            860            140      374   \n",
       "top     CVE-2020-1631      microsoft  Windows   \n",
       "freq                5           1174      405   \n",
       "mean              NaN            NaN      NaN   \n",
       "std               NaN            NaN      NaN   \n",
       "min               NaN            NaN      NaN   \n",
       "25%               NaN            NaN      NaN   \n",
       "50%               NaN            NaN      NaN   \n",
       "75%               NaN            NaN      NaN   \n",
       "max               NaN            NaN      NaN   \n",
       "\n",
       "                                       vulnerability_name  date_added  \\\n",
       "count                                                3984        3984   \n",
       "unique                                                690          64   \n",
       "top     Microsoft Win32k Privilege Escalation Vulnerab...  2021-11-03   \n",
       "freq                                                   80        1435   \n",
       "mean                                                  NaN         NaN   \n",
       "std                                                   NaN         NaN   \n",
       "min                                                   NaN         NaN   \n",
       "25%                                                   NaN         NaN   \n",
       "50%                                                   NaN         NaN   \n",
       "75%                                                   NaN         NaN   \n",
       "max                                                   NaN         NaN   \n",
       "\n",
       "                                        short_description  \\\n",
       "count                                                3954   \n",
       "unique                                                825   \n",
       "top     A vulnerability in Cisco Small Business RV160,...   \n",
       "freq                                                   25   \n",
       "mean                                                  NaN   \n",
       "std                                                   NaN   \n",
       "min                                                   NaN   \n",
       "25%                                                   NaN   \n",
       "50%                                                   NaN   \n",
       "75%                                                   NaN   \n",
       "max                                                   NaN   \n",
       "\n",
       "                               required_action    due_date  \\\n",
       "count                                     3984        3984   \n",
       "unique                                      10          79   \n",
       "top     Apply updates per vendor instructions.  2022-05-03   \n",
       "freq                                      3716         870   \n",
       "mean                                       NaN         NaN   \n",
       "std                                        NaN         NaN   \n",
       "min                                        NaN         NaN   \n",
       "25%                                        NaN         NaN   \n",
       "50%                                        NaN         NaN   \n",
       "75%                                        NaN         NaN   \n",
       "max                                        NaN         NaN   \n",
       "\n",
       "                                                 notes          grp  \\\n",
       "count                                               77  3984.000000   \n",
       "unique                                              67          NaN   \n",
       "top     https://www.gigabyte.com/Support/Security/1801          NaN   \n",
       "freq                                                 4          NaN   \n",
       "mean                                               NaN    14.417922   \n",
       "std                                                NaN    13.401496   \n",
       "min                                                NaN     1.000000   \n",
       "25%                                                NaN     1.000000   \n",
       "50%                                                NaN    16.000000   \n",
       "75%                                                NaN    20.000000   \n",
       "max                                                NaN    64.000000   \n",
       "\n",
       "          pub_date         cvss             cwe   vector complexity severity  \n",
       "count         3106  2484.000000            3090     2484       2484     2484  \n",
       "unique         486          NaN              81        3          2        4  \n",
       "top     2018-03-28          NaN  NVD-CWE-noinfo  NETWORK        LOW     HIGH  \n",
       "freq            60          NaN             492     1822       2258     1382  \n",
       "mean           NaN     8.412440             NaN      NaN        NaN      NaN  \n",
       "std            NaN     1.302686             NaN      NaN        NaN      NaN  \n",
       "min            NaN     3.100000             NaN      NaN        NaN      NaN  \n",
       "25%            NaN     7.800000             NaN      NaN        NaN      NaN  \n",
       "50%            NaN     8.800000             NaN      NaN        NaN      NaN  \n",
       "75%            NaN     9.800000             NaN      NaN        NaN      NaN  \n",
       "max            NaN    10.000000             NaN      NaN        NaN      NaN  "
      ]
     },
     "execution_count": 4,
     "metadata": {},
     "output_type": "execute_result"
    }
   ],
   "source": [
    "# summary of the data\n",
    "df.describe(include = 'all')"
   ]
  },
  {
   "cell_type": "code",
   "execution_count": 5,
   "metadata": {},
   "outputs": [
    {
     "name": "stdout",
     "output_type": "stream",
     "text": [
      "<class 'pandas.core.frame.DataFrame'>\n",
      "RangeIndex: 3984 entries, 0 to 3983\n",
      "Data columns (total 16 columns):\n",
      " #   Column              Non-Null Count  Dtype  \n",
      "---  ------              --------------  -----  \n",
      " 0   cve_id              3984 non-null   object \n",
      " 1   vendor_project      3984 non-null   object \n",
      " 2   product             3979 non-null   object \n",
      " 3   vulnerability_name  3984 non-null   object \n",
      " 4   date_added          3984 non-null   object \n",
      " 5   short_description   3954 non-null   object \n",
      " 6   required_action     3984 non-null   object \n",
      " 7   due_date            3984 non-null   object \n",
      " 8   notes               77 non-null     object \n",
      " 9   grp                 3984 non-null   int64  \n",
      " 10  pub_date            3106 non-null   object \n",
      " 11  cvss                2484 non-null   float64\n",
      " 12  cwe                 3090 non-null   object \n",
      " 13  vector              2484 non-null   object \n",
      " 14  complexity          2484 non-null   object \n",
      " 15  severity            2484 non-null   object \n",
      "dtypes: float64(1), int64(1), object(14)\n",
      "memory usage: 498.1+ KB\n"
     ]
    }
   ],
   "source": [
    "df.info()"
   ]
  },
  {
   "cell_type": "code",
   "execution_count": 6,
   "metadata": {},
   "outputs": [
    {
     "data": {
      "text/plain": [
       "cve_id                   0\n",
       "vendor_project           0\n",
       "product                  5\n",
       "vulnerability_name       0\n",
       "date_added               0\n",
       "short_description       30\n",
       "required_action          0\n",
       "due_date                 0\n",
       "notes                 3907\n",
       "grp                      0\n",
       "pub_date               878\n",
       "cvss                  1500\n",
       "cwe                    894\n",
       "vector                1500\n",
       "complexity            1500\n",
       "severity              1500\n",
       "dtype: int64"
      ]
     },
     "execution_count": 6,
     "metadata": {},
     "output_type": "execute_result"
    }
   ],
   "source": [
    "# number of null entries per column\n",
    "df.isnull().sum()"
   ]
  },
  {
   "cell_type": "code",
   "execution_count": 7,
   "metadata": {},
   "outputs": [],
   "source": [
    "# Dropping the \"notes\" column\n",
    "df.drop('notes', axis=1, inplace=True)"
   ]
  },
  {
   "cell_type": "code",
   "execution_count": 8,
   "metadata": {},
   "outputs": [],
   "source": [
    "# Removing missing values\n",
    "df1_cleaned = df.dropna()"
   ]
  },
  {
   "cell_type": "code",
   "execution_count": 9,
   "metadata": {
    "scrolled": true
   },
   "outputs": [
    {
     "data": {
      "text/plain": [
       "cve_id                0\n",
       "vendor_project        0\n",
       "product               0\n",
       "vulnerability_name    0\n",
       "date_added            0\n",
       "short_description     0\n",
       "required_action       0\n",
       "due_date              0\n",
       "grp                   0\n",
       "pub_date              0\n",
       "cvss                  0\n",
       "cwe                   0\n",
       "vector                0\n",
       "complexity            0\n",
       "severity              0\n",
       "dtype: int64"
      ]
     },
     "execution_count": 9,
     "metadata": {},
     "output_type": "execute_result"
    }
   ],
   "source": [
    "df1_cleaned.isnull().sum()"
   ]
  },
  {
   "cell_type": "code",
   "execution_count": 10,
   "metadata": {},
   "outputs": [
    {
     "data": {
      "text/plain": [
       "(2453, 15)"
      ]
     },
     "execution_count": 10,
     "metadata": {},
     "output_type": "execute_result"
    }
   ],
   "source": [
    "df1_cleaned.shape"
   ]
  },
  {
   "cell_type": "code",
   "execution_count": 11,
   "metadata": {},
   "outputs": [],
   "source": [
    "# Drop duplicated rows based on 'cve_id'\n",
    "df_cleaned = df1_cleaned.drop_duplicates(subset='cve_id')\n",
    "# Reset the index of the cleaned dataframe\n",
    "df_cleaned.reset_index(drop=True, inplace=True)"
   ]
  },
  {
   "cell_type": "code",
   "execution_count": 12,
   "metadata": {},
   "outputs": [
    {
     "data": {
      "text/plain": [
       "(622, 15)"
      ]
     },
     "execution_count": 12,
     "metadata": {},
     "output_type": "execute_result"
    }
   ],
   "source": [
    "df_cleaned.shape"
   ]
  },
  {
   "cell_type": "code",
   "execution_count": 13,
   "metadata": {},
   "outputs": [
    {
     "data": {
      "text/plain": [
       "cve_id                 object\n",
       "vendor_project         object\n",
       "product                object\n",
       "vulnerability_name     object\n",
       "date_added             object\n",
       "short_description      object\n",
       "required_action        object\n",
       "due_date               object\n",
       "grp                     int64\n",
       "pub_date               object\n",
       "cvss                  float64\n",
       "cwe                    object\n",
       "vector                 object\n",
       "complexity             object\n",
       "severity               object\n",
       "dtype: object"
      ]
     },
     "execution_count": 13,
     "metadata": {},
     "output_type": "execute_result"
    }
   ],
   "source": [
    "df_cleaned.dtypes"
   ]
  },
  {
   "cell_type": "code",
   "execution_count": 14,
   "metadata": {},
   "outputs": [
    {
     "name": "stderr",
     "output_type": "stream",
     "text": [
      "<ipython-input-14-0d430cbb9ea6>:2: SettingWithCopyWarning: \n",
      "A value is trying to be set on a copy of a slice from a DataFrame.\n",
      "Try using .loc[row_indexer,col_indexer] = value instead\n",
      "\n",
      "See the caveats in the documentation: https://pandas.pydata.org/pandas-docs/stable/user_guide/indexing.html#returning-a-view-versus-a-copy\n",
      "  df_cleaned['date_added'] = pd.to_datetime(df_cleaned['date_added'])\n",
      "<ipython-input-14-0d430cbb9ea6>:3: SettingWithCopyWarning: \n",
      "A value is trying to be set on a copy of a slice from a DataFrame.\n",
      "Try using .loc[row_indexer,col_indexer] = value instead\n",
      "\n",
      "See the caveats in the documentation: https://pandas.pydata.org/pandas-docs/stable/user_guide/indexing.html#returning-a-view-versus-a-copy\n",
      "  df_cleaned['due_date'] = pd.to_datetime(df_cleaned['due_date'])\n",
      "<ipython-input-14-0d430cbb9ea6>:4: SettingWithCopyWarning: \n",
      "A value is trying to be set on a copy of a slice from a DataFrame.\n",
      "Try using .loc[row_indexer,col_indexer] = value instead\n",
      "\n",
      "See the caveats in the documentation: https://pandas.pydata.org/pandas-docs/stable/user_guide/indexing.html#returning-a-view-versus-a-copy\n",
      "  df_cleaned['pub_date'] = pd.to_datetime(df_cleaned['pub_date'])\n",
      "<ipython-input-14-0d430cbb9ea6>:7: SettingWithCopyWarning: \n",
      "A value is trying to be set on a copy of a slice from a DataFrame.\n",
      "Try using .loc[row_indexer,col_indexer] = value instead\n",
      "\n",
      "See the caveats in the documentation: https://pandas.pydata.org/pandas-docs/stable/user_guide/indexing.html#returning-a-view-versus-a-copy\n",
      "  df_cleaned['date_added_dayofweek'] = df_cleaned['date_added'].dt.strftime('%a')\n",
      "<ipython-input-14-0d430cbb9ea6>:8: SettingWithCopyWarning: \n",
      "A value is trying to be set on a copy of a slice from a DataFrame.\n",
      "Try using .loc[row_indexer,col_indexer] = value instead\n",
      "\n",
      "See the caveats in the documentation: https://pandas.pydata.org/pandas-docs/stable/user_guide/indexing.html#returning-a-view-versus-a-copy\n",
      "  df_cleaned['due_date_dayofweek'] = df_cleaned['due_date'].dt.strftime('%a')\n",
      "<ipython-input-14-0d430cbb9ea6>:9: SettingWithCopyWarning: \n",
      "A value is trying to be set on a copy of a slice from a DataFrame.\n",
      "Try using .loc[row_indexer,col_indexer] = value instead\n",
      "\n",
      "See the caveats in the documentation: https://pandas.pydata.org/pandas-docs/stable/user_guide/indexing.html#returning-a-view-versus-a-copy\n",
      "  df_cleaned['pub_date_dayofweek'] = df_cleaned['pub_date'].dt.strftime('%a')\n",
      "<ipython-input-14-0d430cbb9ea6>:11: SettingWithCopyWarning: \n",
      "A value is trying to be set on a copy of a slice from a DataFrame.\n",
      "Try using .loc[row_indexer,col_indexer] = value instead\n",
      "\n",
      "See the caveats in the documentation: https://pandas.pydata.org/pandas-docs/stable/user_guide/indexing.html#returning-a-view-versus-a-copy\n",
      "  df_cleaned['date_added_month'] = df_cleaned['date_added'].dt.strftime('%b')\n",
      "<ipython-input-14-0d430cbb9ea6>:12: SettingWithCopyWarning: \n",
      "A value is trying to be set on a copy of a slice from a DataFrame.\n",
      "Try using .loc[row_indexer,col_indexer] = value instead\n",
      "\n",
      "See the caveats in the documentation: https://pandas.pydata.org/pandas-docs/stable/user_guide/indexing.html#returning-a-view-versus-a-copy\n",
      "  df_cleaned['due_date_month'] = df_cleaned['due_date'].dt.strftime('%b')\n",
      "<ipython-input-14-0d430cbb9ea6>:13: SettingWithCopyWarning: \n",
      "A value is trying to be set on a copy of a slice from a DataFrame.\n",
      "Try using .loc[row_indexer,col_indexer] = value instead\n",
      "\n",
      "See the caveats in the documentation: https://pandas.pydata.org/pandas-docs/stable/user_guide/indexing.html#returning-a-view-versus-a-copy\n",
      "  df_cleaned['pub_date_month'] = df_cleaned['pub_date'].dt.strftime('%b')\n"
     ]
    }
   ],
   "source": [
    "# Convert date columns to datetime dtype\n",
    "df_cleaned['date_added'] = pd.to_datetime(df_cleaned['date_added'])\n",
    "df_cleaned['due_date'] = pd.to_datetime(df_cleaned['due_date'])\n",
    "df_cleaned['pub_date'] = pd.to_datetime(df_cleaned['pub_date'])\n",
    "\n",
    "# Create new columns for day and month with new names\n",
    "df_cleaned['date_added_dayofweek'] = df_cleaned['date_added'].dt.strftime('%a')\n",
    "df_cleaned['due_date_dayofweek'] = df_cleaned['due_date'].dt.strftime('%a')\n",
    "df_cleaned['pub_date_dayofweek'] = df_cleaned['pub_date'].dt.strftime('%a')\n",
    "\n",
    "df_cleaned['date_added_month'] = df_cleaned['date_added'].dt.strftime('%b')\n",
    "df_cleaned['due_date_month'] = df_cleaned['due_date'].dt.strftime('%b')\n",
    "df_cleaned['pub_date_month'] = df_cleaned['pub_date'].dt.strftime('%b')"
   ]
  },
  {
   "cell_type": "code",
   "execution_count": 15,
   "metadata": {},
   "outputs": [
    {
     "name": "stdout",
     "output_type": "stream",
     "text": [
      "<class 'pandas.core.frame.DataFrame'>\n",
      "RangeIndex: 622 entries, 0 to 621\n",
      "Data columns (total 21 columns):\n",
      " #   Column                Non-Null Count  Dtype         \n",
      "---  ------                --------------  -----         \n",
      " 0   cve_id                622 non-null    object        \n",
      " 1   vendor_project        622 non-null    object        \n",
      " 2   product               622 non-null    object        \n",
      " 3   vulnerability_name    622 non-null    object        \n",
      " 4   date_added            622 non-null    datetime64[ns]\n",
      " 5   short_description     622 non-null    object        \n",
      " 6   required_action       622 non-null    object        \n",
      " 7   due_date              622 non-null    datetime64[ns]\n",
      " 8   grp                   622 non-null    int64         \n",
      " 9   pub_date              622 non-null    datetime64[ns]\n",
      " 10  cvss                  622 non-null    float64       \n",
      " 11  cwe                   622 non-null    object        \n",
      " 12  vector                622 non-null    object        \n",
      " 13  complexity            622 non-null    object        \n",
      " 14  severity              622 non-null    object        \n",
      " 15  date_added_dayofweek  622 non-null    object        \n",
      " 16  due_date_dayofweek    622 non-null    object        \n",
      " 17  pub_date_dayofweek    622 non-null    object        \n",
      " 18  date_added_month      622 non-null    object        \n",
      " 19  due_date_month        622 non-null    object        \n",
      " 20  pub_date_month        622 non-null    object        \n",
      "dtypes: datetime64[ns](3), float64(1), int64(1), object(16)\n",
      "memory usage: 102.2+ KB\n"
     ]
    }
   ],
   "source": [
    "df_cleaned.info()"
   ]
  },
  {
   "cell_type": "code",
   "execution_count": 16,
   "metadata": {},
   "outputs": [
    {
     "data": {
      "text/html": [
       "<div>\n",
       "<style scoped>\n",
       "    .dataframe tbody tr th:only-of-type {\n",
       "        vertical-align: middle;\n",
       "    }\n",
       "\n",
       "    .dataframe tbody tr th {\n",
       "        vertical-align: top;\n",
       "    }\n",
       "\n",
       "    .dataframe thead th {\n",
       "        text-align: right;\n",
       "    }\n",
       "</style>\n",
       "<table border=\"1\" class=\"dataframe\">\n",
       "  <thead>\n",
       "    <tr style=\"text-align: right;\">\n",
       "      <th></th>\n",
       "      <th>cve_id</th>\n",
       "      <th>vendor_project</th>\n",
       "      <th>product</th>\n",
       "      <th>vulnerability_name</th>\n",
       "      <th>date_added</th>\n",
       "      <th>short_description</th>\n",
       "      <th>required_action</th>\n",
       "      <th>due_date</th>\n",
       "      <th>grp</th>\n",
       "      <th>pub_date</th>\n",
       "      <th>...</th>\n",
       "      <th>cwe</th>\n",
       "      <th>vector</th>\n",
       "      <th>complexity</th>\n",
       "      <th>severity</th>\n",
       "      <th>date_added_dayofweek</th>\n",
       "      <th>due_date_dayofweek</th>\n",
       "      <th>pub_date_dayofweek</th>\n",
       "      <th>date_added_month</th>\n",
       "      <th>due_date_month</th>\n",
       "      <th>pub_date_month</th>\n",
       "    </tr>\n",
       "  </thead>\n",
       "  <tbody>\n",
       "    <tr>\n",
       "      <th>0</th>\n",
       "      <td>CVE-2021-27104</td>\n",
       "      <td>accellion</td>\n",
       "      <td>FTA</td>\n",
       "      <td>Accellion FTA OS Command Injection Vulnerability</td>\n",
       "      <td>2021-11-03</td>\n",
       "      <td>Accellion FTA 9_12_370 and earlier is affected...</td>\n",
       "      <td>Apply updates per vendor instructions.</td>\n",
       "      <td>2021-11-17</td>\n",
       "      <td>1</td>\n",
       "      <td>2021-02-16</td>\n",
       "      <td>...</td>\n",
       "      <td>CWE-78</td>\n",
       "      <td>NETWORK</td>\n",
       "      <td>LOW</td>\n",
       "      <td>CRITICAL</td>\n",
       "      <td>Wed</td>\n",
       "      <td>Wed</td>\n",
       "      <td>Tue</td>\n",
       "      <td>Nov</td>\n",
       "      <td>Nov</td>\n",
       "      <td>Feb</td>\n",
       "    </tr>\n",
       "    <tr>\n",
       "      <th>1</th>\n",
       "      <td>CVE-2020-9818</td>\n",
       "      <td>apple</td>\n",
       "      <td>iOS Mail</td>\n",
       "      <td>Apple iOS Mail OOB Vulnerability</td>\n",
       "      <td>2021-11-03</td>\n",
       "      <td>Processing a maliciously crafted mail message ...</td>\n",
       "      <td>Apply updates per vendor instructions.</td>\n",
       "      <td>2022-05-03</td>\n",
       "      <td>1</td>\n",
       "      <td>2020-06-09</td>\n",
       "      <td>...</td>\n",
       "      <td>CWE-787</td>\n",
       "      <td>NETWORK</td>\n",
       "      <td>LOW</td>\n",
       "      <td>HIGH</td>\n",
       "      <td>Wed</td>\n",
       "      <td>Tue</td>\n",
       "      <td>Tue</td>\n",
       "      <td>Nov</td>\n",
       "      <td>May</td>\n",
       "      <td>Jun</td>\n",
       "    </tr>\n",
       "    <tr>\n",
       "      <th>2</th>\n",
       "      <td>CVE-2021-30657</td>\n",
       "      <td>apple</td>\n",
       "      <td>macOS</td>\n",
       "      <td>Apple macOS Policy Subsystem Gatekeeper Bypass</td>\n",
       "      <td>2021-11-03</td>\n",
       "      <td>A malicious application may bypass Gatekeeper ...</td>\n",
       "      <td>Apply updates per vendor instructions.</td>\n",
       "      <td>2021-11-17</td>\n",
       "      <td>1</td>\n",
       "      <td>2021-09-08</td>\n",
       "      <td>...</td>\n",
       "      <td>NVD-CWE-noinfo</td>\n",
       "      <td>LOCAL</td>\n",
       "      <td>LOW</td>\n",
       "      <td>MEDIUM</td>\n",
       "      <td>Wed</td>\n",
       "      <td>Wed</td>\n",
       "      <td>Wed</td>\n",
       "      <td>Nov</td>\n",
       "      <td>Nov</td>\n",
       "      <td>Sep</td>\n",
       "    </tr>\n",
       "    <tr>\n",
       "      <th>3</th>\n",
       "      <td>CVE-2021-22986</td>\n",
       "      <td>f5</td>\n",
       "      <td>BIG-IP</td>\n",
       "      <td>F5 iControl REST unauthenticated Remote Code E...</td>\n",
       "      <td>2021-11-03</td>\n",
       "      <td>The iControl REST interface has an unauthentic...</td>\n",
       "      <td>Apply updates per vendor instructions.</td>\n",
       "      <td>2021-11-17</td>\n",
       "      <td>1</td>\n",
       "      <td>2021-03-31</td>\n",
       "      <td>...</td>\n",
       "      <td>CWE-918</td>\n",
       "      <td>NETWORK</td>\n",
       "      <td>LOW</td>\n",
       "      <td>CRITICAL</td>\n",
       "      <td>Wed</td>\n",
       "      <td>Wed</td>\n",
       "      <td>Wed</td>\n",
       "      <td>Nov</td>\n",
       "      <td>Nov</td>\n",
       "      <td>Mar</td>\n",
       "    </tr>\n",
       "    <tr>\n",
       "      <th>4</th>\n",
       "      <td>CVE-2021-30563</td>\n",
       "      <td>google</td>\n",
       "      <td>Chrome</td>\n",
       "      <td>Google Chrome Browser V8 Arbitrary Code Execution</td>\n",
       "      <td>2021-11-03</td>\n",
       "      <td>Type Confusion in V8 in Google Chrome prior to...</td>\n",
       "      <td>Apply updates per vendor instructions.</td>\n",
       "      <td>2021-11-17</td>\n",
       "      <td>1</td>\n",
       "      <td>2021-08-03</td>\n",
       "      <td>...</td>\n",
       "      <td>CWE-843</td>\n",
       "      <td>NETWORK</td>\n",
       "      <td>LOW</td>\n",
       "      <td>HIGH</td>\n",
       "      <td>Wed</td>\n",
       "      <td>Wed</td>\n",
       "      <td>Tue</td>\n",
       "      <td>Nov</td>\n",
       "      <td>Nov</td>\n",
       "      <td>Aug</td>\n",
       "    </tr>\n",
       "  </tbody>\n",
       "</table>\n",
       "<p>5 rows × 21 columns</p>\n",
       "</div>"
      ],
      "text/plain": [
       "           cve_id vendor_project   product  \\\n",
       "0  CVE-2021-27104      accellion       FTA   \n",
       "1   CVE-2020-9818          apple  iOS Mail   \n",
       "2  CVE-2021-30657          apple     macOS   \n",
       "3  CVE-2021-22986             f5    BIG-IP   \n",
       "4  CVE-2021-30563         google    Chrome   \n",
       "\n",
       "                                  vulnerability_name date_added  \\\n",
       "0   Accellion FTA OS Command Injection Vulnerability 2021-11-03   \n",
       "1                   Apple iOS Mail OOB Vulnerability 2021-11-03   \n",
       "2     Apple macOS Policy Subsystem Gatekeeper Bypass 2021-11-03   \n",
       "3  F5 iControl REST unauthenticated Remote Code E... 2021-11-03   \n",
       "4  Google Chrome Browser V8 Arbitrary Code Execution 2021-11-03   \n",
       "\n",
       "                                   short_description  \\\n",
       "0  Accellion FTA 9_12_370 and earlier is affected...   \n",
       "1  Processing a maliciously crafted mail message ...   \n",
       "2  A malicious application may bypass Gatekeeper ...   \n",
       "3  The iControl REST interface has an unauthentic...   \n",
       "4  Type Confusion in V8 in Google Chrome prior to...   \n",
       "\n",
       "                          required_action   due_date  grp   pub_date  ...  \\\n",
       "0  Apply updates per vendor instructions. 2021-11-17    1 2021-02-16  ...   \n",
       "1  Apply updates per vendor instructions. 2022-05-03    1 2020-06-09  ...   \n",
       "2  Apply updates per vendor instructions. 2021-11-17    1 2021-09-08  ...   \n",
       "3  Apply updates per vendor instructions. 2021-11-17    1 2021-03-31  ...   \n",
       "4  Apply updates per vendor instructions. 2021-11-17    1 2021-08-03  ...   \n",
       "\n",
       "              cwe   vector complexity  severity date_added_dayofweek  \\\n",
       "0          CWE-78  NETWORK        LOW  CRITICAL                  Wed   \n",
       "1         CWE-787  NETWORK        LOW      HIGH                  Wed   \n",
       "2  NVD-CWE-noinfo    LOCAL        LOW    MEDIUM                  Wed   \n",
       "3         CWE-918  NETWORK        LOW  CRITICAL                  Wed   \n",
       "4         CWE-843  NETWORK        LOW      HIGH                  Wed   \n",
       "\n",
       "  due_date_dayofweek pub_date_dayofweek date_added_month due_date_month  \\\n",
       "0                Wed                Tue              Nov            Nov   \n",
       "1                Tue                Tue              Nov            May   \n",
       "2                Wed                Wed              Nov            Nov   \n",
       "3                Wed                Wed              Nov            Nov   \n",
       "4                Wed                Tue              Nov            Nov   \n",
       "\n",
       "  pub_date_month  \n",
       "0            Feb  \n",
       "1            Jun  \n",
       "2            Sep  \n",
       "3            Mar  \n",
       "4            Aug  \n",
       "\n",
       "[5 rows x 21 columns]"
      ]
     },
     "execution_count": 16,
     "metadata": {},
     "output_type": "execute_result"
    }
   ],
   "source": [
    "df_cleaned.head()"
   ]
  },
  {
   "cell_type": "code",
   "execution_count": 17,
   "metadata": {},
   "outputs": [
    {
     "data": {
      "text/plain": [
       "(622, 21)"
      ]
     },
     "execution_count": 17,
     "metadata": {},
     "output_type": "execute_result"
    }
   ],
   "source": [
    "df_cleaned.shape"
   ]
  },
  {
   "cell_type": "code",
   "execution_count": 18,
   "metadata": {},
   "outputs": [
    {
     "data": {
      "text/plain": [
       "(622, 21)"
      ]
     },
     "execution_count": 18,
     "metadata": {},
     "output_type": "execute_result"
    }
   ],
   "source": [
    "df_cleaned.shape"
   ]
  },
  {
   "cell_type": "code",
   "execution_count": 19,
   "metadata": {},
   "outputs": [
    {
     "name": "stdout",
     "output_type": "stream",
     "text": [
      "<class 'pandas.core.frame.DataFrame'>\n",
      "RangeIndex: 622 entries, 0 to 621\n",
      "Data columns (total 21 columns):\n",
      " #   Column                Non-Null Count  Dtype         \n",
      "---  ------                --------------  -----         \n",
      " 0   cve_id                622 non-null    object        \n",
      " 1   vendor_project        622 non-null    object        \n",
      " 2   product               622 non-null    object        \n",
      " 3   vulnerability_name    622 non-null    object        \n",
      " 4   date_added            622 non-null    datetime64[ns]\n",
      " 5   short_description     622 non-null    object        \n",
      " 6   required_action       622 non-null    object        \n",
      " 7   due_date              622 non-null    datetime64[ns]\n",
      " 8   grp                   622 non-null    int64         \n",
      " 9   pub_date              622 non-null    datetime64[ns]\n",
      " 10  cvss                  622 non-null    float64       \n",
      " 11  cwe                   622 non-null    object        \n",
      " 12  vector                622 non-null    object        \n",
      " 13  complexity            622 non-null    object        \n",
      " 14  severity              622 non-null    object        \n",
      " 15  date_added_dayofweek  622 non-null    object        \n",
      " 16  due_date_dayofweek    622 non-null    object        \n",
      " 17  pub_date_dayofweek    622 non-null    object        \n",
      " 18  date_added_month      622 non-null    object        \n",
      " 19  due_date_month        622 non-null    object        \n",
      " 20  pub_date_month        622 non-null    object        \n",
      "dtypes: datetime64[ns](3), float64(1), int64(1), object(16)\n",
      "memory usage: 102.2+ KB\n"
     ]
    }
   ],
   "source": [
    "df_cleaned.info()"
   ]
  },
  {
   "cell_type": "code",
   "execution_count": 20,
   "metadata": {},
   "outputs": [
    {
     "data": {
      "text/html": [
       "<div>\n",
       "<style scoped>\n",
       "    .dataframe tbody tr th:only-of-type {\n",
       "        vertical-align: middle;\n",
       "    }\n",
       "\n",
       "    .dataframe tbody tr th {\n",
       "        vertical-align: top;\n",
       "    }\n",
       "\n",
       "    .dataframe thead th {\n",
       "        text-align: right;\n",
       "    }\n",
       "</style>\n",
       "<table border=\"1\" class=\"dataframe\">\n",
       "  <thead>\n",
       "    <tr style=\"text-align: right;\">\n",
       "      <th></th>\n",
       "      <th>cve_id</th>\n",
       "      <th>vendor_project</th>\n",
       "      <th>product</th>\n",
       "      <th>vulnerability_name</th>\n",
       "      <th>date_added</th>\n",
       "      <th>short_description</th>\n",
       "      <th>required_action</th>\n",
       "      <th>due_date</th>\n",
       "      <th>grp</th>\n",
       "      <th>pub_date</th>\n",
       "      <th>...</th>\n",
       "      <th>cwe</th>\n",
       "      <th>vector</th>\n",
       "      <th>complexity</th>\n",
       "      <th>severity</th>\n",
       "      <th>date_added_dayofweek</th>\n",
       "      <th>due_date_dayofweek</th>\n",
       "      <th>pub_date_dayofweek</th>\n",
       "      <th>date_added_month</th>\n",
       "      <th>due_date_month</th>\n",
       "      <th>pub_date_month</th>\n",
       "    </tr>\n",
       "  </thead>\n",
       "  <tbody>\n",
       "    <tr>\n",
       "      <th>count</th>\n",
       "      <td>622</td>\n",
       "      <td>622</td>\n",
       "      <td>622</td>\n",
       "      <td>622</td>\n",
       "      <td>622</td>\n",
       "      <td>622</td>\n",
       "      <td>622</td>\n",
       "      <td>622</td>\n",
       "      <td>622.000000</td>\n",
       "      <td>622</td>\n",
       "      <td>...</td>\n",
       "      <td>622</td>\n",
       "      <td>622</td>\n",
       "      <td>622</td>\n",
       "      <td>622</td>\n",
       "      <td>622</td>\n",
       "      <td>622</td>\n",
       "      <td>622</td>\n",
       "      <td>622</td>\n",
       "      <td>622</td>\n",
       "      <td>622</td>\n",
       "    </tr>\n",
       "    <tr>\n",
       "      <th>unique</th>\n",
       "      <td>622</td>\n",
       "      <td>124</td>\n",
       "      <td>307</td>\n",
       "      <td>517</td>\n",
       "      <td>40</td>\n",
       "      <td>587</td>\n",
       "      <td>6</td>\n",
       "      <td>57</td>\n",
       "      <td>NaN</td>\n",
       "      <td>360</td>\n",
       "      <td>...</td>\n",
       "      <td>75</td>\n",
       "      <td>3</td>\n",
       "      <td>2</td>\n",
       "      <td>4</td>\n",
       "      <td>5</td>\n",
       "      <td>6</td>\n",
       "      <td>7</td>\n",
       "      <td>9</td>\n",
       "      <td>11</td>\n",
       "      <td>12</td>\n",
       "    </tr>\n",
       "    <tr>\n",
       "      <th>top</th>\n",
       "      <td>CVE-2017-12232</td>\n",
       "      <td>microsoft</td>\n",
       "      <td>Windows</td>\n",
       "      <td>Microsoft Win32k Privilege Escalation Vulnerab...</td>\n",
       "      <td>2021-11-03 00:00:00</td>\n",
       "      <td>A vulnerability in Cisco Small Business RV160,...</td>\n",
       "      <td>Apply updates per vendor instructions.</td>\n",
       "      <td>2022-05-03 00:00:00</td>\n",
       "      <td>NaN</td>\n",
       "      <td>2018-03-28 00:00:00</td>\n",
       "      <td>...</td>\n",
       "      <td>NVD-CWE-noinfo</td>\n",
       "      <td>NETWORK</td>\n",
       "      <td>LOW</td>\n",
       "      <td>HIGH</td>\n",
       "      <td>Wed</td>\n",
       "      <td>Tue</td>\n",
       "      <td>Wed</td>\n",
       "      <td>Nov</td>\n",
       "      <td>May</td>\n",
       "      <td>Mar</td>\n",
       "    </tr>\n",
       "    <tr>\n",
       "      <th>freq</th>\n",
       "      <td>1</td>\n",
       "      <td>171</td>\n",
       "      <td>63</td>\n",
       "      <td>12</td>\n",
       "      <td>276</td>\n",
       "      <td>5</td>\n",
       "      <td>594</td>\n",
       "      <td>166</td>\n",
       "      <td>NaN</td>\n",
       "      <td>15</td>\n",
       "      <td>...</td>\n",
       "      <td>97</td>\n",
       "      <td>455</td>\n",
       "      <td>565</td>\n",
       "      <td>345</td>\n",
       "      <td>319</td>\n",
       "      <td>219</td>\n",
       "      <td>168</td>\n",
       "      <td>280</td>\n",
       "      <td>198</td>\n",
       "      <td>88</td>\n",
       "    </tr>\n",
       "    <tr>\n",
       "      <th>first</th>\n",
       "      <td>NaN</td>\n",
       "      <td>NaN</td>\n",
       "      <td>NaN</td>\n",
       "      <td>NaN</td>\n",
       "      <td>2021-11-03 00:00:00</td>\n",
       "      <td>NaN</td>\n",
       "      <td>NaN</td>\n",
       "      <td>2020-01-29 00:00:00</td>\n",
       "      <td>NaN</td>\n",
       "      <td>2014-04-07 00:00:00</td>\n",
       "      <td>...</td>\n",
       "      <td>NaN</td>\n",
       "      <td>NaN</td>\n",
       "      <td>NaN</td>\n",
       "      <td>NaN</td>\n",
       "      <td>NaN</td>\n",
       "      <td>NaN</td>\n",
       "      <td>NaN</td>\n",
       "      <td>NaN</td>\n",
       "      <td>NaN</td>\n",
       "      <td>NaN</td>\n",
       "    </tr>\n",
       "    <tr>\n",
       "      <th>last</th>\n",
       "      <td>NaN</td>\n",
       "      <td>NaN</td>\n",
       "      <td>NaN</td>\n",
       "      <td>NaN</td>\n",
       "      <td>2022-07-01 00:00:00</td>\n",
       "      <td>NaN</td>\n",
       "      <td>NaN</td>\n",
       "      <td>2022-09-07 00:00:00</td>\n",
       "      <td>NaN</td>\n",
       "      <td>2022-06-02 00:00:00</td>\n",
       "      <td>...</td>\n",
       "      <td>NaN</td>\n",
       "      <td>NaN</td>\n",
       "      <td>NaN</td>\n",
       "      <td>NaN</td>\n",
       "      <td>NaN</td>\n",
       "      <td>NaN</td>\n",
       "      <td>NaN</td>\n",
       "      <td>NaN</td>\n",
       "      <td>NaN</td>\n",
       "      <td>NaN</td>\n",
       "    </tr>\n",
       "    <tr>\n",
       "      <th>mean</th>\n",
       "      <td>NaN</td>\n",
       "      <td>NaN</td>\n",
       "      <td>NaN</td>\n",
       "      <td>NaN</td>\n",
       "      <td>NaN</td>\n",
       "      <td>NaN</td>\n",
       "      <td>NaN</td>\n",
       "      <td>NaN</td>\n",
       "      <td>11.745981</td>\n",
       "      <td>NaN</td>\n",
       "      <td>...</td>\n",
       "      <td>NaN</td>\n",
       "      <td>NaN</td>\n",
       "      <td>NaN</td>\n",
       "      <td>NaN</td>\n",
       "      <td>NaN</td>\n",
       "      <td>NaN</td>\n",
       "      <td>NaN</td>\n",
       "      <td>NaN</td>\n",
       "      <td>NaN</td>\n",
       "      <td>NaN</td>\n",
       "    </tr>\n",
       "    <tr>\n",
       "      <th>std</th>\n",
       "      <td>NaN</td>\n",
       "      <td>NaN</td>\n",
       "      <td>NaN</td>\n",
       "      <td>NaN</td>\n",
       "      <td>NaN</td>\n",
       "      <td>NaN</td>\n",
       "      <td>NaN</td>\n",
       "      <td>NaN</td>\n",
       "      <td>12.195790</td>\n",
       "      <td>NaN</td>\n",
       "      <td>...</td>\n",
       "      <td>NaN</td>\n",
       "      <td>NaN</td>\n",
       "      <td>NaN</td>\n",
       "      <td>NaN</td>\n",
       "      <td>NaN</td>\n",
       "      <td>NaN</td>\n",
       "      <td>NaN</td>\n",
       "      <td>NaN</td>\n",
       "      <td>NaN</td>\n",
       "      <td>NaN</td>\n",
       "    </tr>\n",
       "    <tr>\n",
       "      <th>min</th>\n",
       "      <td>NaN</td>\n",
       "      <td>NaN</td>\n",
       "      <td>NaN</td>\n",
       "      <td>NaN</td>\n",
       "      <td>NaN</td>\n",
       "      <td>NaN</td>\n",
       "      <td>NaN</td>\n",
       "      <td>NaN</td>\n",
       "      <td>1.000000</td>\n",
       "      <td>NaN</td>\n",
       "      <td>...</td>\n",
       "      <td>NaN</td>\n",
       "      <td>NaN</td>\n",
       "      <td>NaN</td>\n",
       "      <td>NaN</td>\n",
       "      <td>NaN</td>\n",
       "      <td>NaN</td>\n",
       "      <td>NaN</td>\n",
       "      <td>NaN</td>\n",
       "      <td>NaN</td>\n",
       "      <td>NaN</td>\n",
       "    </tr>\n",
       "    <tr>\n",
       "      <th>25%</th>\n",
       "      <td>NaN</td>\n",
       "      <td>NaN</td>\n",
       "      <td>NaN</td>\n",
       "      <td>NaN</td>\n",
       "      <td>NaN</td>\n",
       "      <td>NaN</td>\n",
       "      <td>NaN</td>\n",
       "      <td>NaN</td>\n",
       "      <td>1.000000</td>\n",
       "      <td>NaN</td>\n",
       "      <td>...</td>\n",
       "      <td>NaN</td>\n",
       "      <td>NaN</td>\n",
       "      <td>NaN</td>\n",
       "      <td>NaN</td>\n",
       "      <td>NaN</td>\n",
       "      <td>NaN</td>\n",
       "      <td>NaN</td>\n",
       "      <td>NaN</td>\n",
       "      <td>NaN</td>\n",
       "      <td>NaN</td>\n",
       "    </tr>\n",
       "    <tr>\n",
       "      <th>50%</th>\n",
       "      <td>NaN</td>\n",
       "      <td>NaN</td>\n",
       "      <td>NaN</td>\n",
       "      <td>NaN</td>\n",
       "      <td>NaN</td>\n",
       "      <td>NaN</td>\n",
       "      <td>NaN</td>\n",
       "      <td>NaN</td>\n",
       "      <td>6.000000</td>\n",
       "      <td>NaN</td>\n",
       "      <td>...</td>\n",
       "      <td>NaN</td>\n",
       "      <td>NaN</td>\n",
       "      <td>NaN</td>\n",
       "      <td>NaN</td>\n",
       "      <td>NaN</td>\n",
       "      <td>NaN</td>\n",
       "      <td>NaN</td>\n",
       "      <td>NaN</td>\n",
       "      <td>NaN</td>\n",
       "      <td>NaN</td>\n",
       "    </tr>\n",
       "    <tr>\n",
       "      <th>75%</th>\n",
       "      <td>NaN</td>\n",
       "      <td>NaN</td>\n",
       "      <td>NaN</td>\n",
       "      <td>NaN</td>\n",
       "      <td>NaN</td>\n",
       "      <td>NaN</td>\n",
       "      <td>NaN</td>\n",
       "      <td>NaN</td>\n",
       "      <td>19.000000</td>\n",
       "      <td>NaN</td>\n",
       "      <td>...</td>\n",
       "      <td>NaN</td>\n",
       "      <td>NaN</td>\n",
       "      <td>NaN</td>\n",
       "      <td>NaN</td>\n",
       "      <td>NaN</td>\n",
       "      <td>NaN</td>\n",
       "      <td>NaN</td>\n",
       "      <td>NaN</td>\n",
       "      <td>NaN</td>\n",
       "      <td>NaN</td>\n",
       "    </tr>\n",
       "    <tr>\n",
       "      <th>max</th>\n",
       "      <td>NaN</td>\n",
       "      <td>NaN</td>\n",
       "      <td>NaN</td>\n",
       "      <td>NaN</td>\n",
       "      <td>NaN</td>\n",
       "      <td>NaN</td>\n",
       "      <td>NaN</td>\n",
       "      <td>NaN</td>\n",
       "      <td>41.000000</td>\n",
       "      <td>NaN</td>\n",
       "      <td>...</td>\n",
       "      <td>NaN</td>\n",
       "      <td>NaN</td>\n",
       "      <td>NaN</td>\n",
       "      <td>NaN</td>\n",
       "      <td>NaN</td>\n",
       "      <td>NaN</td>\n",
       "      <td>NaN</td>\n",
       "      <td>NaN</td>\n",
       "      <td>NaN</td>\n",
       "      <td>NaN</td>\n",
       "    </tr>\n",
       "  </tbody>\n",
       "</table>\n",
       "<p>13 rows × 21 columns</p>\n",
       "</div>"
      ],
      "text/plain": [
       "                cve_id vendor_project  product  \\\n",
       "count              622            622      622   \n",
       "unique             622            124      307   \n",
       "top     CVE-2017-12232      microsoft  Windows   \n",
       "freq                 1            171       63   \n",
       "first              NaN            NaN      NaN   \n",
       "last               NaN            NaN      NaN   \n",
       "mean               NaN            NaN      NaN   \n",
       "std                NaN            NaN      NaN   \n",
       "min                NaN            NaN      NaN   \n",
       "25%                NaN            NaN      NaN   \n",
       "50%                NaN            NaN      NaN   \n",
       "75%                NaN            NaN      NaN   \n",
       "max                NaN            NaN      NaN   \n",
       "\n",
       "                                       vulnerability_name  \\\n",
       "count                                                 622   \n",
       "unique                                                517   \n",
       "top     Microsoft Win32k Privilege Escalation Vulnerab...   \n",
       "freq                                                   12   \n",
       "first                                                 NaN   \n",
       "last                                                  NaN   \n",
       "mean                                                  NaN   \n",
       "std                                                   NaN   \n",
       "min                                                   NaN   \n",
       "25%                                                   NaN   \n",
       "50%                                                   NaN   \n",
       "75%                                                   NaN   \n",
       "max                                                   NaN   \n",
       "\n",
       "                 date_added  \\\n",
       "count                   622   \n",
       "unique                   40   \n",
       "top     2021-11-03 00:00:00   \n",
       "freq                    276   \n",
       "first   2021-11-03 00:00:00   \n",
       "last    2022-07-01 00:00:00   \n",
       "mean                    NaN   \n",
       "std                     NaN   \n",
       "min                     NaN   \n",
       "25%                     NaN   \n",
       "50%                     NaN   \n",
       "75%                     NaN   \n",
       "max                     NaN   \n",
       "\n",
       "                                        short_description  \\\n",
       "count                                                 622   \n",
       "unique                                                587   \n",
       "top     A vulnerability in Cisco Small Business RV160,...   \n",
       "freq                                                    5   \n",
       "first                                                 NaN   \n",
       "last                                                  NaN   \n",
       "mean                                                  NaN   \n",
       "std                                                   NaN   \n",
       "min                                                   NaN   \n",
       "25%                                                   NaN   \n",
       "50%                                                   NaN   \n",
       "75%                                                   NaN   \n",
       "max                                                   NaN   \n",
       "\n",
       "                               required_action             due_date  \\\n",
       "count                                      622                  622   \n",
       "unique                                       6                   57   \n",
       "top     Apply updates per vendor instructions.  2022-05-03 00:00:00   \n",
       "freq                                       594                  166   \n",
       "first                                      NaN  2020-01-29 00:00:00   \n",
       "last                                       NaN  2022-09-07 00:00:00   \n",
       "mean                                       NaN                  NaN   \n",
       "std                                        NaN                  NaN   \n",
       "min                                        NaN                  NaN   \n",
       "25%                                        NaN                  NaN   \n",
       "50%                                        NaN                  NaN   \n",
       "75%                                        NaN                  NaN   \n",
       "max                                        NaN                  NaN   \n",
       "\n",
       "               grp             pub_date  ...             cwe   vector  \\\n",
       "count   622.000000                  622  ...             622      622   \n",
       "unique         NaN                  360  ...              75        3   \n",
       "top            NaN  2018-03-28 00:00:00  ...  NVD-CWE-noinfo  NETWORK   \n",
       "freq           NaN                   15  ...              97      455   \n",
       "first          NaN  2014-04-07 00:00:00  ...             NaN      NaN   \n",
       "last           NaN  2022-06-02 00:00:00  ...             NaN      NaN   \n",
       "mean     11.745981                  NaN  ...             NaN      NaN   \n",
       "std      12.195790                  NaN  ...             NaN      NaN   \n",
       "min       1.000000                  NaN  ...             NaN      NaN   \n",
       "25%       1.000000                  NaN  ...             NaN      NaN   \n",
       "50%       6.000000                  NaN  ...             NaN      NaN   \n",
       "75%      19.000000                  NaN  ...             NaN      NaN   \n",
       "max      41.000000                  NaN  ...             NaN      NaN   \n",
       "\n",
       "       complexity severity date_added_dayofweek due_date_dayofweek  \\\n",
       "count         622      622                  622                622   \n",
       "unique          2        4                    5                  6   \n",
       "top           LOW     HIGH                  Wed                Tue   \n",
       "freq          565      345                  319                219   \n",
       "first         NaN      NaN                  NaN                NaN   \n",
       "last          NaN      NaN                  NaN                NaN   \n",
       "mean          NaN      NaN                  NaN                NaN   \n",
       "std           NaN      NaN                  NaN                NaN   \n",
       "min           NaN      NaN                  NaN                NaN   \n",
       "25%           NaN      NaN                  NaN                NaN   \n",
       "50%           NaN      NaN                  NaN                NaN   \n",
       "75%           NaN      NaN                  NaN                NaN   \n",
       "max           NaN      NaN                  NaN                NaN   \n",
       "\n",
       "       pub_date_dayofweek date_added_month due_date_month pub_date_month  \n",
       "count                 622              622            622            622  \n",
       "unique                  7                9             11             12  \n",
       "top                   Wed              Nov            May            Mar  \n",
       "freq                  168              280            198             88  \n",
       "first                 NaN              NaN            NaN            NaN  \n",
       "last                  NaN              NaN            NaN            NaN  \n",
       "mean                  NaN              NaN            NaN            NaN  \n",
       "std                   NaN              NaN            NaN            NaN  \n",
       "min                   NaN              NaN            NaN            NaN  \n",
       "25%                   NaN              NaN            NaN            NaN  \n",
       "50%                   NaN              NaN            NaN            NaN  \n",
       "75%                   NaN              NaN            NaN            NaN  \n",
       "max                   NaN              NaN            NaN            NaN  \n",
       "\n",
       "[13 rows x 21 columns]"
      ]
     },
     "execution_count": 20,
     "metadata": {},
     "output_type": "execute_result"
    }
   ],
   "source": [
    "df_cleaned.describe(include = 'all')"
   ]
  },
  {
   "cell_type": "code",
   "execution_count": 21,
   "metadata": {},
   "outputs": [
    {
     "data": {
      "text/plain": [
       "cve_id                          object\n",
       "vendor_project                  object\n",
       "product                         object\n",
       "vulnerability_name              object\n",
       "date_added              datetime64[ns]\n",
       "short_description               object\n",
       "required_action                 object\n",
       "due_date                datetime64[ns]\n",
       "grp                              int64\n",
       "pub_date                datetime64[ns]\n",
       "cvss                           float64\n",
       "cwe                             object\n",
       "vector                          object\n",
       "complexity                      object\n",
       "severity                        object\n",
       "date_added_dayofweek            object\n",
       "due_date_dayofweek              object\n",
       "pub_date_dayofweek              object\n",
       "date_added_month                object\n",
       "due_date_month                  object\n",
       "pub_date_month                  object\n",
       "dtype: object"
      ]
     },
     "execution_count": 21,
     "metadata": {},
     "output_type": "execute_result"
    }
   ],
   "source": [
    "df_cleaned.dtypes"
   ]
  },
  {
   "cell_type": "code",
   "execution_count": 22,
   "metadata": {},
   "outputs": [
    {
     "data": {
      "text/plain": [
       "False"
      ]
     },
     "execution_count": 22,
     "metadata": {},
     "output_type": "execute_result"
    }
   ],
   "source": [
    "df_cleaned.duplicated().any()"
   ]
  },
  {
   "cell_type": "code",
   "execution_count": 23,
   "metadata": {},
   "outputs": [
    {
     "data": {
      "text/plain": [
       "cve_id                  0\n",
       "vendor_project          0\n",
       "product                 0\n",
       "vulnerability_name      0\n",
       "date_added              0\n",
       "short_description       0\n",
       "required_action         0\n",
       "due_date                0\n",
       "grp                     0\n",
       "pub_date                0\n",
       "cvss                    0\n",
       "cwe                     0\n",
       "vector                  0\n",
       "complexity              0\n",
       "severity                0\n",
       "date_added_dayofweek    0\n",
       "due_date_dayofweek      0\n",
       "pub_date_dayofweek      0\n",
       "date_added_month        0\n",
       "due_date_month          0\n",
       "pub_date_month          0\n",
       "dtype: int64"
      ]
     },
     "execution_count": 23,
     "metadata": {},
     "output_type": "execute_result"
    }
   ],
   "source": [
    "df_cleaned.isna().sum()"
   ]
  },
  {
   "cell_type": "code",
   "execution_count": 24,
   "metadata": {},
   "outputs": [
    {
     "data": {
      "text/plain": [
       "307"
      ]
     },
     "execution_count": 24,
     "metadata": {},
     "output_type": "execute_result"
    }
   ],
   "source": [
    "#unique values of product column\n",
    "df_cleaned['product'].nunique()"
   ]
  },
  {
   "cell_type": "code",
   "execution_count": 25,
   "metadata": {},
   "outputs": [
    {
     "data": {
      "text/plain": [
       "array(['FTA', 'iOS Mail', 'macOS', 'BIG-IP', 'Chrome',\n",
       "       'Microsoft Defender', 'Windows', 'TeamViewer Desktop',\n",
       "       'Snapdragon Auto, Snapdragon Compute, Snapdragon Connectivity, Snapdragon Consumer IOT, Snapdragon Industrial IOT, Snapdragon Mobile, Snapdragon Voice & Music, Snapdragon Wearables',\n",
       "       'Drupal core', 'Office', 'Frontend', 'Acrobat and Reader',\n",
       "       'ColdFusion', 'Flash Player',\n",
       "       'Cameras and Network Video Recorder (NVR)', 'Struts',\n",
       "       'HTTP Server', 'Shiro', 'Solr', 'iOS and iPadOS', 'FaceTime',\n",
       "       'iOS', 'iOS and macOS', 'Safari', 'iOS, macOS, and iPadOS',\n",
       "       'Buffalo WSR-2533DHPL2 and WSR-2533DHP3 firmware',\n",
       "       'Arm Trusted Firmware', 'Mali Graphics Processing Unit (GPU)',\n",
       "       'Confluence', 'Confluence Server', 'Crowd and Crowd Data Center',\n",
       "       'Atlassian Confluence Server', 'BillQuick Web Suite',\n",
       "       'Adaptive Security Appliance (ASA) and Firepower Threat Defense (FTD)',\n",
       "       'HyperFlex HX', 'IOS and IOS XE', 'IOS XR', 'IP Phones',\n",
       "       'RV320 and RV325 Routers', 'StoreFront Server',\n",
       "       'Application Delivery Controller (ADC), Gateway, and SDWAN WANOP',\n",
       "       'Application Delivery Controller (ADC) and Gateway',\n",
       "       'Workspace (for Windows)', 'DIR-825 R1', 'DNS-320',\n",
       "       'DotNetNuke (DNN)', 'Desktop Community Edition', 'Vigor Router(s)',\n",
       "       'Drupal', 'ExifTool', 'Exim', 'EyesOfNetwork',\n",
       "       'Access Management server', 'FortiOS', 'Chrome for Android',\n",
       "       'Chromium V8 Engine', 'Chromium Blink', 'IBM Data Risk Manager',\n",
       "       'IBM Planning Analytics', 'ImageMagick',\n",
       "       'MobileIron Core & Connector', 'Kaseya VSA', 'Liferay Portal',\n",
       "       'McAfee Total Protection (MTP)', 'Micro Focus Access Manager',\n",
       "       'Micro Focus Operation Bridge Reporter (OBR)',\n",
       "       'Microsoft Azure Open Management Infrastructure (OMI)',\n",
       "       'Microsoft Edge, Internet Explorer',\n",
       "       'Microsoft Desktop Window Manager (DWM)', 'Microsoft MSHTML',\n",
       "       'Microsoft Enhanced Cryptographic Provider',\n",
       "       'Windows, Windows Adobe Type Manager Library',\n",
       "       'Microsoft Exchange Server', 'Internet Information Services (IIS)',\n",
       "       'SMBv1 server', 'Remote Desktop Services', 'Win32k',\n",
       "       'Hyper-V RemoteFX vGPU', 'Microsoft .NET Framework',\n",
       "       'Internet Explorer Scripting Engine', 'Internet Explorer',\n",
       "       'MSHTML engine', 'Windows, Windows Server, Office',\n",
       "       'Microsoft Outlook', 'Netlogon Remote Protocol (MS-NRPC)',\n",
       "       'Scripting Engine', 'Windows CryptoAPI', 'SharePoint',\n",
       "       'Microsoft .NET Framework, Microsoft SharePoint, Visual Studio',\n",
       "       'Microsoft Visio/Office', 'nsDocShell destructor',\n",
       "       'ReadableStream', 'IonMonkey JIT compiler', 'Nagios XI',\n",
       "       'NETGEAR JGS516PE devices', 'Netis WF2419', 'Oracle Coherence',\n",
       "       'Oracle Solaris', 'Oracle WebLogic Server', 'PlaySMS',\n",
       "       'ASP.NET AJAX', 'Pulse Connect Secure',\n",
       "       'Pulse Connect Secure, Policy Secure', 'rConfig',\n",
       "       'Jungle Software Development Kit (SDK)', 'Roundcube Webmail',\n",
       "       'Salt', 'SAP CRM',\n",
       "       'SAP NetWeaver Application Server Java platforms',\n",
       "       'SAP NetWeaver AS JAVA',\n",
       "       'SAP NetWeaver AS JAVA (LM Configuration Wizard)',\n",
       "       'SAP Solution Manager (User Experience Monitoring)',\n",
       "       'SAP NetWeaver AS Java', 'SIMalliance Toolbox (S@T) Browser',\n",
       "       'SolarWinds Orion Platform', 'SolarWinds nServ-U',\n",
       "       'SolarWinds Virtualization Manager', 'Sonatype Nexus Repository',\n",
       "       'SonicWall Email Security', 'SMA100', 'SonicWall SSLVPN SMA100',\n",
       "       'Sophos XG Firewall devices',\n",
       "       'Sumavision Enhanced Multimedia Router (EMR)',\n",
       "       'Symantec Messaging Gateway', 'ASP.NET AJAX and Sitefinity',\n",
       "       'Tenda AC11 devices', 'Tenda AC15 AC1900',\n",
       "       'Tenda AC7, AC9, and AC10 devices', 'NoneCms', 'ThinkPHP',\n",
       "       'Trend Micro OfficeScan', 'Trend Micro Apex One and OfficeScan XG',\n",
       "       'Trend Micro Apex One, OfficeScan XG and Worry-Free Business Security',\n",
       "       'Trend Micro Apex One and Worry-Free Business Security',\n",
       "       'Trend Micro Apex One and OfficeScan XG server',\n",
       "       'Trend Micro Multiple Products', 'NVMS-1000', 'Unraid',\n",
       "       'vBulletin', 'ESXi, Horizon DaaS Appliances', 'ESXi',\n",
       "       'VMware Fusion, VMware Remote Console for Mac, and Horizon Client for Mac',\n",
       "       'vCenter Server',\n",
       "       'VMware Workspace One Access, Access Connector, Identity Manager, and Identity Manager Connector',\n",
       "       'File Manager', 'Snap Creek Duplicator', 'Social-Warfare',\n",
       "       'Device Management Platform', 'ManageEngine ADSelfServicePlus',\n",
       "       'ManageEngine Desktop Central',\n",
       "       'ManageEngine ServiceDesk Plus (SDP)',\n",
       "       'Unified Security Gateway (USG)', 'Exiftool', 'Exchange',\n",
       "       'RouterOS', 'Apache',\n",
       "       'ManageEngine ServiceDesk Plus (SDP) / SupportCenter Plus',\n",
       "       'Desktop Central', 'Kernel', 'Nexus Repository Manager', 'GoAhead',\n",
       "       'JBoss Application Server', 'AdminLTE', 'mongo-express', 'Log4j2',\n",
       "       'Security cameras web server', 'WebLogic Server',\n",
       "       'Zimbra Collaboration Suite', 'FortiOS and FortiProxy', 'PAN-OS',\n",
       "       'Mail Transfer Agent (MTA)',\n",
       "       'WebSphere Application Server and Server Hypervisor Edition',\n",
       "       'Primefaces Application', 'Kibana',\n",
       "       'WARP, IPVPN, and MPVPN software', 'October CMS',\n",
       "       'Aviatrix Controller', 'Exchange Server',\n",
       "       'vRealize Operations Manager API',\n",
       "       'System Information Library for Node.JS',\n",
       "       'BIG-IP Traffic Management Microkernel',\n",
       "       'Intelligence Enterprise Edition', 'Airflow',\n",
       "       \"Airflow's Experimental API\", 'Serv-U', 'SMA 100 Appliances',\n",
       "       'UCM6200',\n",
       "       'Active Management Technology (AMT), Small Business Technology (SBT), and Standard Manageability',\n",
       "       'Bourne-Again Shell (Bash)', 'SMBv3',\n",
       "       'Jenkins Stapler Web Framework', 'Struts 1', 'SMBv1', 'ActiveMQ',\n",
       "       'Webkit', 'Commerce and Magento Open Source', 'WinRAR', 'PHPUnit',\n",
       "       'Webmail',\n",
       "       'Small Business RV160, RV260, RV340, and RV345 Series Routers',\n",
       "       'Tomcat', 'IPv6', 'Exim Internet Mailer',\n",
       "       'Small Business RV320 and RV325 Dual Gigabit WAN VPN Routers',\n",
       "       'Excel', 'ChakraCore scripting engine', 'IOS Software',\n",
       "       'IOS, XR, and XE Software', 'IOS XE Software',\n",
       "       'IOS and IOS XE Software',\n",
       "       'IOS Software and Cisco IOS XE Software',\n",
       "       'Catalyst 4500 Series Switches and Cisco Catalyst 4500-X Series Switches',\n",
       "       'Malware Protection Engine', 'IOS software',\n",
       "       'Catalyst 6800 Series Switches', 'Graphics Device Interface (GDI)',\n",
       "       'SIMATIC CP', 'vCenter Server and Cloud Foundation',\n",
       "       'Jira Server and Data Center', 'Wireless Router DGN2200',\n",
       "       'Multiple Routers', 'SonicOS', 'Task Scheduler',\n",
       "       'Firebox and XTM Appliances', 'MiCollab, MiVoice Business Express',\n",
       "       'XP', 'ShareFile', 'DIR-610 Devices',\n",
       "       'Multiple Network-Attached Storage (NAS) Devices', 'OpenSMTPD',\n",
       "       'Spring Cloud Configuration (Config) Server', 'SG UTM', 'Helpdesk',\n",
       "       'Kylin', 'Junos OS', 'Core',\n",
       "       'BI Publisher (Formerly XML Publisher)', 'Webmin',\n",
       "       'SD-WAN and NetScaler', 'FastCGI Process Manager (FPM)',\n",
       "       'Xperience', 'Matrix Project Plugin', 'SD-WAN Edge', 'N1A1 NAS',\n",
       "       'Spring Data Commons', 'KACE System Management Appliance',\n",
       "       'Secure Access Control System (ACS)', 'VPN Routers',\n",
       "       'DGN2200 Devices',\n",
       "       'NetScaler SD-WAN Enterprise, CloudBridge Virtual WAN, and XenMobile Server',\n",
       "       'Wireless Access Point (WAP) Devices', 'DCS-930L Devices',\n",
       "       'WNR2000v5 Router', 'Ruby on Rails', 'Multiple Devices',\n",
       "       'HTTP File Server (HFS)', 'Debian-specific Redis Servers',\n",
       "       'Secure Remote Access (SRA)', 'DirectX Graphics Kernel (DXGKRNL)',\n",
       "       'Edge and Internet Explorer', 'Edge',\n",
       "       'Client-Server Run-time Subsystem (CSRSS)', 'Apex Central',\n",
       "       'Firewall', 'Network Attached Storage (NAS)', 'dbutil Driver',\n",
       "       'Gigabit Passive Optical Network (GPON) Routers',\n",
       "       'Spring Framework', 'Sudo', 'HTTP Protocol Stack',\n",
       "       'Firebox and XTM', 'Active Directory', 'Pixel', 'Checkbox Survey',\n",
       "       'QNAP Network-Attached Storage (NAS)',\n",
       "       'User Interface (UI) for ASP.NET AJAX',\n",
       "       'Virtual System/Server Administrator (VSA)',\n",
       "       'Workspace ONE Access and Identity Manager', 'Multiple Products',\n",
       "       'DNS-320 Storage Device', 'U.motion Builder',\n",
       "       'VTScada (formerly VTS)', 'AirOS', 'Collaboration Suite (ZCS)',\n",
       "       'WhatsApp', 'Script Security Plugin', 'OpenSSL',\n",
       "       'Multiple Firewalls', 'Spring Cloud Gateway',\n",
       "       'Update Notification Manager', 'Firefox and Thunderbird',\n",
       "       'XML Core Services', 'Ghostscript', 'Internet Explorer and Edge',\n",
       "       'Adaptive Security Appliance (ASA)', 'Solaris',\n",
       "       'Flash Player and AIR', 'Silverlight',\n",
       "       'Meeting Owl Pro and Whiteboard Owl', 'Photo Station', 'QTS',\n",
       "       'RV Series Routers', 'NetWeaver', 'MiVoice Connect', 'Chromium',\n",
       "       'Polkit'], dtype=object)"
      ]
     },
     "execution_count": 25,
     "metadata": {},
     "output_type": "execute_result"
    }
   ],
   "source": [
    "df_cleaned['product'].unique()"
   ]
  },
  {
   "cell_type": "code",
   "execution_count": 26,
   "metadata": {},
   "outputs": [
    {
     "data": {
      "text/plain": [
       "32"
      ]
     },
     "execution_count": 26,
     "metadata": {},
     "output_type": "execute_result"
    }
   ],
   "source": [
    "df_cleaned['cvss'].nunique()"
   ]
  },
  {
   "cell_type": "code",
   "execution_count": 27,
   "metadata": {},
   "outputs": [
    {
     "data": {
      "text/plain": [
       "array([ 9.8,  8.8,  5.5,  7.8,  7. ,  8.1,  7.5, 10. ,  4.3,  6.1,  6.5,\n",
       "        9.6,  9.1,  6.3,  8.4,  7.2,  9. ,  5.3,  6.8,  6.6,  4.9,  9.9,\n",
       "        7.1,  5.4,  7.4,  5.9,  8. ,  8.6,  4.7,  6.4,  8.2,  3.1])"
      ]
     },
     "execution_count": 27,
     "metadata": {},
     "output_type": "execute_result"
    }
   ],
   "source": [
    "df_cleaned['cvss'].unique()"
   ]
  },
  {
   "cell_type": "code",
   "execution_count": 28,
   "metadata": {},
   "outputs": [
    {
     "data": {
      "image/png": "[encoded data removed]",
      "text/plain": [
       "<Figure size 432x288 with 1 Axes>"
      ]
     },
     "metadata": {
      "needs_background": "light"
     },
     "output_type": "display_data"
    }
   ],
   "source": [
    "import seaborn as sns\n",
    "import matplotlib.pyplot as plt\n",
    "sns.distplot(df_cleaned['cvss'])\n",
    "plt.show()"
   ]
  },
  {
   "cell_type": "code",
   "execution_count": 29,
   "metadata": {},
   "outputs": [
    {
     "data": {
      "text/plain": [
       "75"
      ]
     },
     "execution_count": 29,
     "metadata": {},
     "output_type": "execute_result"
    }
   ],
   "source": [
    "df_cleaned['cwe'].nunique()"
   ]
  },
  {
   "cell_type": "code",
   "execution_count": 30,
   "metadata": {},
   "outputs": [
    {
     "data": {
      "text/plain": [
       "array(['CWE-78', 'CWE-787', 'NVD-CWE-noinfo', 'CWE-918', 'CWE-843',\n",
       "       'CWE-131', 'CWE-521', 'CWE-20', 'CWE-434', 'CWE-290', 'CWE-89',\n",
       "       'CWE-416', 'CWE-502', 'CWE-22', 'CWE-284', 'CWE-74', 'CWE-917',\n",
       "       'CWE-190', 'CWE-665', 'CWE-362,CWE-269', 'CWE-79', 'CWE-120',\n",
       "       'CWE-863', 'CWE-134', 'CWE-400', 'CWE-200', 'CWE-611', 'CWE-862',\n",
       "       'CWE-326', 'CWE-732', 'CWE-119', 'CWE-798', 'CWE-269',\n",
       "       'CWE-22,CWE-829', 'CWE-306', 'CWE-287', 'CWE-787,CWE-843',\n",
       "       'CWE-119,CWE-20', 'CWE-22,CWE-94', 'CWE-522', 'CWE-94', 'CWE-264',\n",
       "       'CWE-347', 'CWE-787,CWE-190', 'CWE-77', 'CWE-787,CWE-416',\n",
       "       'CWE-330', 'CWE-295', 'CWE-362,CWE-416', 'NVD-CWE-Other',\n",
       "       'CWE-755', 'CWE-77,CWE-787', 'CWE-552', 'CWE-668', 'CWE-425',\n",
       "       'CWE-94,CWE-306', 'CWE-494', 'CWE-287,CWE-697', 'CWE-59',\n",
       "       'CWE-312', 'CWE-285', 'CWE-640,CWE-287', 'CWE-404', 'CWE-125',\n",
       "       'CWE-772', 'CWE-362', 'CWE-352', 'CWE-78,CWE-755', 'CWE-693',\n",
       "       'CWE-704', 'CWE-193', 'CWE-415', 'CWE-281', 'CWE-189',\n",
       "       'CWE-125,CWE-787'], dtype=object)"
      ]
     },
     "execution_count": 30,
     "metadata": {},
     "output_type": "execute_result"
    }
   ],
   "source": [
    "df_cleaned['cwe'].unique()"
   ]
  },
  {
   "cell_type": "code",
   "execution_count": 31,
   "metadata": {},
   "outputs": [
    {
     "data": {
      "text/plain": [
       "3"
      ]
     },
     "execution_count": 31,
     "metadata": {},
     "output_type": "execute_result"
    }
   ],
   "source": [
    "df_cleaned['vector'].nunique()"
   ]
  },
  {
   "cell_type": "code",
   "execution_count": 32,
   "metadata": {},
   "outputs": [
    {
     "data": {
      "text/plain": [
       "array(['NETWORK', 'LOCAL', 'ADJACENT_NETWORK'], dtype=object)"
      ]
     },
     "execution_count": 32,
     "metadata": {},
     "output_type": "execute_result"
    }
   ],
   "source": [
    "df_cleaned['vector'].unique()"
   ]
  },
  {
   "cell_type": "code",
   "execution_count": 33,
   "metadata": {},
   "outputs": [
    {
     "data": {
      "text/plain": [
       "2"
      ]
     },
     "execution_count": 33,
     "metadata": {},
     "output_type": "execute_result"
    }
   ],
   "source": [
    "df_cleaned['complexity'].nunique()"
   ]
  },
  {
   "cell_type": "code",
   "execution_count": 34,
   "metadata": {},
   "outputs": [
    {
     "data": {
      "text/plain": [
       "array(['LOW', 'HIGH'], dtype=object)"
      ]
     },
     "execution_count": 34,
     "metadata": {},
     "output_type": "execute_result"
    }
   ],
   "source": [
    "df_cleaned['complexity'].unique()"
   ]
  },
  {
   "cell_type": "code",
   "execution_count": 35,
   "metadata": {},
   "outputs": [
    {
     "data": {
      "text/plain": [
       "<matplotlib.axes._subplots.AxesSubplot at 0x118cf2850>"
      ]
     },
     "execution_count": 35,
     "metadata": {},
     "output_type": "execute_result"
    },
    {
     "data": {
      "image/png": "[encoded data removed]",
      "text/plain": [
       "<Figure size 864x576 with 1 Axes>"
      ]
     },
     "metadata": {
      "needs_background": "light"
     },
     "output_type": "display_data"
    }
   ],
   "source": [
    "p = df_cleaned['product'].value_counts()\n",
    "p10 = p[:10]\n",
    "plt.figure(figsize=(12,8))\n",
    "plt.xticks(rotation=75)\n",
    "plt.title('Top 10 Products')\n",
    "sns.barplot(p10.index, p10)"
   ]
  },
  {
   "cell_type": "code",
   "execution_count": 66,
   "metadata": {},
   "outputs": [
    {
     "data": {
      "text/plain": [
       "<matplotlib.axes._subplots.AxesSubplot at 0x118dc0ee0>"
      ]
     },
     "execution_count": 66,
     "metadata": {},
     "output_type": "execute_result"
    },
    {
     "data": {
      "image/png": "[encoded data removed]",
      "text/plain": [
       "<Figure size 864x576 with 1 Axes>"
      ]
     },
     "metadata": {
      "needs_background": "light"
     },
     "output_type": "display_data"
    }
   ],
   "source": [
    "v = df_cleaned['vendor_project'].value_counts()\n",
    "v10=v[:10]\n",
    "plt.figure(figsize=(12,8))\n",
    "plt.xticks(rotation=75)\n",
    "plt.title(\"Top 10 vendor projects\")\n",
    "sns.barplot(v10.index,v10)"
   ]
  },
  {
   "cell_type": "code",
   "execution_count": 37,
   "metadata": {},
   "outputs": [
    {
     "data": {
      "text/html": [
       "<div>\n",
       "<style scoped>\n",
       "    .dataframe tbody tr th:only-of-type {\n",
       "        vertical-align: middle;\n",
       "    }\n",
       "\n",
       "    .dataframe tbody tr th {\n",
       "        vertical-align: top;\n",
       "    }\n",
       "\n",
       "    .dataframe thead th {\n",
       "        text-align: right;\n",
       "    }\n",
       "</style>\n",
       "<table border=\"1\" class=\"dataframe\">\n",
       "  <thead>\n",
       "    <tr style=\"text-align: right;\">\n",
       "      <th></th>\n",
       "      <th>cve_id</th>\n",
       "      <th>vendor_project</th>\n",
       "      <th>product</th>\n",
       "      <th>vulnerability_name</th>\n",
       "      <th>date_added</th>\n",
       "      <th>short_description</th>\n",
       "      <th>required_action</th>\n",
       "      <th>due_date</th>\n",
       "      <th>grp</th>\n",
       "      <th>pub_date</th>\n",
       "      <th>...</th>\n",
       "      <th>cwe</th>\n",
       "      <th>vector</th>\n",
       "      <th>complexity</th>\n",
       "      <th>severity</th>\n",
       "      <th>date_added_dayofweek</th>\n",
       "      <th>due_date_dayofweek</th>\n",
       "      <th>pub_date_dayofweek</th>\n",
       "      <th>date_added_month</th>\n",
       "      <th>due_date_month</th>\n",
       "      <th>pub_date_month</th>\n",
       "    </tr>\n",
       "  </thead>\n",
       "  <tbody>\n",
       "    <tr>\n",
       "      <th>0</th>\n",
       "      <td>CVE-2021-27104</td>\n",
       "      <td>accellion</td>\n",
       "      <td>FTA</td>\n",
       "      <td>Accellion FTA OS Command Injection Vulnerability</td>\n",
       "      <td>2021-11-03</td>\n",
       "      <td>Accellion FTA 9_12_370 and earlier is affected...</td>\n",
       "      <td>Apply updates per vendor instructions.</td>\n",
       "      <td>2021-11-17</td>\n",
       "      <td>1</td>\n",
       "      <td>2021-02-16</td>\n",
       "      <td>...</td>\n",
       "      <td>CWE-78</td>\n",
       "      <td>NETWORK</td>\n",
       "      <td>LOW</td>\n",
       "      <td>CRITICAL</td>\n",
       "      <td>Wed</td>\n",
       "      <td>Wed</td>\n",
       "      <td>Tue</td>\n",
       "      <td>Nov</td>\n",
       "      <td>Nov</td>\n",
       "      <td>Feb</td>\n",
       "    </tr>\n",
       "    <tr>\n",
       "      <th>1</th>\n",
       "      <td>CVE-2020-9818</td>\n",
       "      <td>apple</td>\n",
       "      <td>iOS Mail</td>\n",
       "      <td>Apple iOS Mail OOB Vulnerability</td>\n",
       "      <td>2021-11-03</td>\n",
       "      <td>Processing a maliciously crafted mail message ...</td>\n",
       "      <td>Apply updates per vendor instructions.</td>\n",
       "      <td>2022-05-03</td>\n",
       "      <td>1</td>\n",
       "      <td>2020-06-09</td>\n",
       "      <td>...</td>\n",
       "      <td>CWE-787</td>\n",
       "      <td>NETWORK</td>\n",
       "      <td>LOW</td>\n",
       "      <td>HIGH</td>\n",
       "      <td>Wed</td>\n",
       "      <td>Tue</td>\n",
       "      <td>Tue</td>\n",
       "      <td>Nov</td>\n",
       "      <td>May</td>\n",
       "      <td>Jun</td>\n",
       "    </tr>\n",
       "    <tr>\n",
       "      <th>2</th>\n",
       "      <td>CVE-2021-30657</td>\n",
       "      <td>apple</td>\n",
       "      <td>macOS</td>\n",
       "      <td>Apple macOS Policy Subsystem Gatekeeper Bypass</td>\n",
       "      <td>2021-11-03</td>\n",
       "      <td>A malicious application may bypass Gatekeeper ...</td>\n",
       "      <td>Apply updates per vendor instructions.</td>\n",
       "      <td>2021-11-17</td>\n",
       "      <td>1</td>\n",
       "      <td>2021-09-08</td>\n",
       "      <td>...</td>\n",
       "      <td>NVD-CWE-noinfo</td>\n",
       "      <td>LOCAL</td>\n",
       "      <td>LOW</td>\n",
       "      <td>MEDIUM</td>\n",
       "      <td>Wed</td>\n",
       "      <td>Wed</td>\n",
       "      <td>Wed</td>\n",
       "      <td>Nov</td>\n",
       "      <td>Nov</td>\n",
       "      <td>Sep</td>\n",
       "    </tr>\n",
       "    <tr>\n",
       "      <th>3</th>\n",
       "      <td>CVE-2021-22986</td>\n",
       "      <td>f5</td>\n",
       "      <td>BIG-IP</td>\n",
       "      <td>F5 iControl REST unauthenticated Remote Code E...</td>\n",
       "      <td>2021-11-03</td>\n",
       "      <td>The iControl REST interface has an unauthentic...</td>\n",
       "      <td>Apply updates per vendor instructions.</td>\n",
       "      <td>2021-11-17</td>\n",
       "      <td>1</td>\n",
       "      <td>2021-03-31</td>\n",
       "      <td>...</td>\n",
       "      <td>CWE-918</td>\n",
       "      <td>NETWORK</td>\n",
       "      <td>LOW</td>\n",
       "      <td>CRITICAL</td>\n",
       "      <td>Wed</td>\n",
       "      <td>Wed</td>\n",
       "      <td>Wed</td>\n",
       "      <td>Nov</td>\n",
       "      <td>Nov</td>\n",
       "      <td>Mar</td>\n",
       "    </tr>\n",
       "    <tr>\n",
       "      <th>4</th>\n",
       "      <td>CVE-2021-30563</td>\n",
       "      <td>google</td>\n",
       "      <td>Chrome</td>\n",
       "      <td>Google Chrome Browser V8 Arbitrary Code Execution</td>\n",
       "      <td>2021-11-03</td>\n",
       "      <td>Type Confusion in V8 in Google Chrome prior to...</td>\n",
       "      <td>Apply updates per vendor instructions.</td>\n",
       "      <td>2021-11-17</td>\n",
       "      <td>1</td>\n",
       "      <td>2021-08-03</td>\n",
       "      <td>...</td>\n",
       "      <td>CWE-843</td>\n",
       "      <td>NETWORK</td>\n",
       "      <td>LOW</td>\n",
       "      <td>HIGH</td>\n",
       "      <td>Wed</td>\n",
       "      <td>Wed</td>\n",
       "      <td>Tue</td>\n",
       "      <td>Nov</td>\n",
       "      <td>Nov</td>\n",
       "      <td>Aug</td>\n",
       "    </tr>\n",
       "  </tbody>\n",
       "</table>\n",
       "<p>5 rows × 21 columns</p>\n",
       "</div>"
      ],
      "text/plain": [
       "           cve_id vendor_project   product  \\\n",
       "0  CVE-2021-27104      accellion       FTA   \n",
       "1   CVE-2020-9818          apple  iOS Mail   \n",
       "2  CVE-2021-30657          apple     macOS   \n",
       "3  CVE-2021-22986             f5    BIG-IP   \n",
       "4  CVE-2021-30563         google    Chrome   \n",
       "\n",
       "                                  vulnerability_name date_added  \\\n",
       "0   Accellion FTA OS Command Injection Vulnerability 2021-11-03   \n",
       "1                   Apple iOS Mail OOB Vulnerability 2021-11-03   \n",
       "2     Apple macOS Policy Subsystem Gatekeeper Bypass 2021-11-03   \n",
       "3  F5 iControl REST unauthenticated Remote Code E... 2021-11-03   \n",
       "4  Google Chrome Browser V8 Arbitrary Code Execution 2021-11-03   \n",
       "\n",
       "                                   short_description  \\\n",
       "0  Accellion FTA 9_12_370 and earlier is affected...   \n",
       "1  Processing a maliciously crafted mail message ...   \n",
       "2  A malicious application may bypass Gatekeeper ...   \n",
       "3  The iControl REST interface has an unauthentic...   \n",
       "4  Type Confusion in V8 in Google Chrome prior to...   \n",
       "\n",
       "                          required_action   due_date  grp   pub_date  ...  \\\n",
       "0  Apply updates per vendor instructions. 2021-11-17    1 2021-02-16  ...   \n",
       "1  Apply updates per vendor instructions. 2022-05-03    1 2020-06-09  ...   \n",
       "2  Apply updates per vendor instructions. 2021-11-17    1 2021-09-08  ...   \n",
       "3  Apply updates per vendor instructions. 2021-11-17    1 2021-03-31  ...   \n",
       "4  Apply updates per vendor instructions. 2021-11-17    1 2021-08-03  ...   \n",
       "\n",
       "              cwe   vector complexity  severity date_added_dayofweek  \\\n",
       "0          CWE-78  NETWORK        LOW  CRITICAL                  Wed   \n",
       "1         CWE-787  NETWORK        LOW      HIGH                  Wed   \n",
       "2  NVD-CWE-noinfo    LOCAL        LOW    MEDIUM                  Wed   \n",
       "3         CWE-918  NETWORK        LOW  CRITICAL                  Wed   \n",
       "4         CWE-843  NETWORK        LOW      HIGH                  Wed   \n",
       "\n",
       "  due_date_dayofweek pub_date_dayofweek date_added_month due_date_month  \\\n",
       "0                Wed                Tue              Nov            Nov   \n",
       "1                Tue                Tue              Nov            May   \n",
       "2                Wed                Wed              Nov            Nov   \n",
       "3                Wed                Wed              Nov            Nov   \n",
       "4                Wed                Tue              Nov            Nov   \n",
       "\n",
       "  pub_date_month  \n",
       "0            Feb  \n",
       "1            Jun  \n",
       "2            Sep  \n",
       "3            Mar  \n",
       "4            Aug  \n",
       "\n",
       "[5 rows x 21 columns]"
      ]
     },
     "execution_count": 37,
     "metadata": {},
     "output_type": "execute_result"
    }
   ],
   "source": [
    "df_cleaned.head()"
   ]
  },
  {
   "cell_type": "code",
   "execution_count": 38,
   "metadata": {},
   "outputs": [
    {
     "name": "stderr",
     "output_type": "stream",
     "text": [
      "<ipython-input-38-b6a7bf3b90ce>:1: SettingWithCopyWarning: \n",
      "A value is trying to be set on a copy of a slice from a DataFrame.\n",
      "Try using .loc[row_indexer,col_indexer] = value instead\n",
      "\n",
      "See the caveats in the documentation: https://pandas.pydata.org/pandas-docs/stable/user_guide/indexing.html#returning-a-view-versus-a-copy\n",
      "  df_cleaned['dd_year'] = df_cleaned['due_date'].dt.year\n",
      "<ipython-input-38-b6a7bf3b90ce>:2: SettingWithCopyWarning: \n",
      "A value is trying to be set on a copy of a slice from a DataFrame.\n",
      "Try using .loc[row_indexer,col_indexer] = value instead\n",
      "\n",
      "See the caveats in the documentation: https://pandas.pydata.org/pandas-docs/stable/user_guide/indexing.html#returning-a-view-versus-a-copy\n",
      "  df_cleaned['pd_year'] = df_cleaned['pub_date'].dt.year\n",
      "<ipython-input-38-b6a7bf3b90ce>:3: SettingWithCopyWarning: \n",
      "A value is trying to be set on a copy of a slice from a DataFrame.\n",
      "Try using .loc[row_indexer,col_indexer] = value instead\n",
      "\n",
      "See the caveats in the documentation: https://pandas.pydata.org/pandas-docs/stable/user_guide/indexing.html#returning-a-view-versus-a-copy\n",
      "  df_cleaned['da_year'] = df_cleaned['date_added'].dt.year\n"
     ]
    }
   ],
   "source": [
    "df_cleaned['dd_year'] = df_cleaned['due_date'].dt.year\n",
    "df_cleaned['pd_year'] = df_cleaned['pub_date'].dt.year\n",
    "df_cleaned['da_year'] = df_cleaned['date_added'].dt.year"
   ]
  },
  {
   "cell_type": "code",
   "execution_count": 67,
   "metadata": {},
   "outputs": [
    {
     "data": {
      "text/plain": [
       "Text(0, 0.5, 'count')"
      ]
     },
     "execution_count": 67,
     "metadata": {},
     "output_type": "execute_result"
    },
    {
     "data": {
      "image/png": "[encoded data removed]",
      "text/plain": [
       "<Figure size 864x576 with 1 Axes>"
      ]
     },
     "metadata": {
      "needs_background": "light"
     },
     "output_type": "display_data"
    }
   ],
   "source": [
    "d_years = df_cleaned['dd_year'].sort_values().value_counts()\n",
    "d_years.plot(kind=\"bar\",color='r',title=\"Number of due date years\", figsize=(12,8))\n",
    "plt.xlabel('due date year')\n",
    "plt.ylabel('count')"
   ]
  },
  {
   "cell_type": "code",
   "execution_count": 68,
   "metadata": {},
   "outputs": [
    {
     "data": {
      "text/plain": [
       "Text(0, 0.5, 'count')"
      ]
     },
     "execution_count": 68,
     "metadata": {},
     "output_type": "execute_result"
    },
    {
     "data": {
      "image/png": "[encoded data removed]",
      "text/plain": [
       "<Figure size 864x576 with 1 Axes>"
      ]
     },
     "metadata": {
      "needs_background": "light"
     },
     "output_type": "display_data"
    }
   ],
   "source": [
    "d_mon = df_cleaned['due_date_month'].sort_values().value_counts()\n",
    "d_mon.plot(kind=\"bar\",color='r',title=\"Number of due date months\", figsize=(12,8))\n",
    "plt.xlabel('due date month')\n",
    "plt.ylabel('count')"
   ]
  },
  {
   "cell_type": "code",
   "execution_count": 69,
   "metadata": {},
   "outputs": [
    {
     "data": {
      "text/plain": [
       "Text(0, 0.5, 'count')"
      ]
     },
     "execution_count": 69,
     "metadata": {},
     "output_type": "execute_result"
    },
    {
     "data": {
      "image/png": "[encoded data removed]",
      "text/plain": [
       "<Figure size 864x576 with 1 Axes>"
      ]
     },
     "metadata": {
      "needs_background": "light"
     },
     "output_type": "display_data"
    }
   ],
   "source": [
    "d_day = df_cleaned['due_date_dayofweek'].sort_values().value_counts()\n",
    "d_day.plot(kind=\"bar\",color='r',title=\"Number of due date days\", figsize=(12,8))\n",
    "plt.xlabel('due date day')\n",
    "plt.ylabel('count')"
   ]
  },
  {
   "cell_type": "code",
   "execution_count": 70,
   "metadata": {},
   "outputs": [
    {
     "data": {
      "text/plain": [
       "Text(0, 0.5, 'count')"
      ]
     },
     "execution_count": 70,
     "metadata": {},
     "output_type": "execute_result"
    },
    {
     "data": {
      "image/png": "[encoded data removed]",
      "text/plain": [
       "<Figure size 864x576 with 1 Axes>"
      ]
     },
     "metadata": {
      "needs_background": "light"
     },
     "output_type": "display_data"
    }
   ],
   "source": [
    "p_year = df_cleaned['pd_year'].sort_values().value_counts()\n",
    "p_year.plot(kind=\"bar\",color='b',title=\"Number of publish date years\", figsize=(12,8))\n",
    "plt.xlabel('publish date year')\n",
    "plt.ylabel('count')"
   ]
  },
  {
   "cell_type": "code",
   "execution_count": 71,
   "metadata": {},
   "outputs": [
    {
     "data": {
      "text/plain": [
       "Text(0, 0.5, 'count')"
      ]
     },
     "execution_count": 71,
     "metadata": {},
     "output_type": "execute_result"
    },
    {
     "data": {
      "image/png": "[encoded data removed]",
      "text/plain": [
       "<Figure size 864x576 with 1 Axes>"
      ]
     },
     "metadata": {
      "needs_background": "light"
     },
     "output_type": "display_data"
    }
   ],
   "source": [
    "p_day = df_cleaned['pub_date_month'].sort_values().value_counts()\n",
    "p_day.plot(kind=\"bar\",color='b',title=\"Number of publish date months\", figsize=(12,8))\n",
    "plt.xlabel('publish date month')\n",
    "plt.ylabel('count')"
   ]
  },
  {
   "cell_type": "code",
   "execution_count": 72,
   "metadata": {},
   "outputs": [
    {
     "data": {
      "text/plain": [
       "Text(0, 0.5, 'count')"
      ]
     },
     "execution_count": 72,
     "metadata": {},
     "output_type": "execute_result"
    },
    {
     "data": {
      "image/png": "[encoded data removed]",
      "text/plain": [
       "<Figure size 864x576 with 1 Axes>"
      ]
     },
     "metadata": {
      "needs_background": "light"
     },
     "output_type": "display_data"
    }
   ],
   "source": [
    "p_day = df_cleaned['pub_date_dayofweek'].sort_values().value_counts()\n",
    "p_day.plot(kind=\"bar\",color='b',title=\"Number of publish date days\", figsize=(12,8))\n",
    "plt.xlabel('publish date days')\n",
    "plt.ylabel('count')"
   ]
  },
  {
   "cell_type": "code",
   "execution_count": 73,
   "metadata": {},
   "outputs": [
    {
     "data": {
      "text/plain": [
       "Text(0, 0.5, 'count')"
      ]
     },
     "execution_count": 73,
     "metadata": {},
     "output_type": "execute_result"
    },
    {
     "data": {
      "image/png": "[encoded data removed]",
      "text/plain": [
       "<Figure size 864x576 with 1 Axes>"
      ]
     },
     "metadata": {
      "needs_background": "light"
     },
     "output_type": "display_data"
    }
   ],
   "source": [
    "p_year = df_cleaned['da_year'].sort_values().value_counts()\n",
    "p_year.plot(kind=\"bar\",color='g',title=\"Number of date added years\", figsize=(12,8))\n",
    "plt.xlabel('date added year')\n",
    "plt.ylabel('count')"
   ]
  },
  {
   "cell_type": "code",
   "execution_count": 74,
   "metadata": {},
   "outputs": [
    {
     "data": {
      "text/plain": [
       "Text(0, 0.5, 'count')"
      ]
     },
     "execution_count": 74,
     "metadata": {},
     "output_type": "execute_result"
    },
    {
     "data": {
      "image/png": "[encoded data removed]",
      "text/plain": [
       "<Figure size 864x576 with 1 Axes>"
      ]
     },
     "metadata": {
      "needs_background": "light"
     },
     "output_type": "display_data"
    }
   ],
   "source": [
    "p_day = df_cleaned['date_added_month'].sort_values().value_counts()\n",
    "p_day.plot(kind=\"bar\",color='g',title=\"Number of date added months\", figsize=(12,8))\n",
    "plt.xlabel('date added month')\n",
    "plt.ylabel('count')"
   ]
  },
  {
   "cell_type": "code",
   "execution_count": 75,
   "metadata": {},
   "outputs": [
    {
     "data": {
      "text/plain": [
       "Text(0, 0.5, 'count')"
      ]
     },
     "execution_count": 75,
     "metadata": {},
     "output_type": "execute_result"
    },
    {
     "data": {
      "image/png": "[encoded data removed]",
      "text/plain": [
       "<Figure size 864x576 with 1 Axes>"
      ]
     },
     "metadata": {
      "needs_background": "light"
     },
     "output_type": "display_data"
    }
   ],
   "source": [
    "p_day = df_cleaned['date_added_dayofweek'].sort_values().value_counts()\n",
    "p_day.plot(kind=\"bar\",color='g',title=\"Number of date added days\", figsize=(12,8))\n",
    "plt.xlabel('date added days')\n",
    "plt.ylabel('count')"
   ]
  },
  {
   "cell_type": "code",
   "execution_count": 48,
   "metadata": {},
   "outputs": [
    {
     "name": "stderr",
     "output_type": "stream",
     "text": [
      "<ipython-input-48-53108338bbbb>:5: SettingWithCopyWarning: \n",
      "A value is trying to be set on a copy of a slice from a DataFrame.\n",
      "Try using .loc[row_indexer,col_indexer] = value instead\n",
      "\n",
      "See the caveats in the documentation: https://pandas.pydata.org/pandas-docs/stable/user_guide/indexing.html#returning-a-view-versus-a-copy\n",
      "  df_cleaned['severity'] = df_cleaned['severity'].map(severity_mapping)\n",
      "<ipython-input-48-53108338bbbb>:6: SettingWithCopyWarning: \n",
      "A value is trying to be set on a copy of a slice from a DataFrame.\n",
      "Try using .loc[row_indexer,col_indexer] = value instead\n",
      "\n",
      "See the caveats in the documentation: https://pandas.pydata.org/pandas-docs/stable/user_guide/indexing.html#returning-a-view-versus-a-copy\n",
      "  df_cleaned['complexity'] = df_cleaned['complexity'].map(complexity_mapping)\n"
     ]
    }
   ],
   "source": [
    "#converting categorical columns into numberical\n",
    "severity_mapping = {'CRITICAL': 4, 'HIGH': 3, 'MEDIUM': 2, 'LOW': 1}\n",
    "complexity_mapping = {'HIGH': 2, 'LOW': 1}\n",
    "\n",
    "df_cleaned['severity'] = df_cleaned['severity'].map(severity_mapping)\n",
    "df_cleaned['complexity'] = df_cleaned['complexity'].map(complexity_mapping)"
   ]
  },
  {
   "cell_type": "code",
   "execution_count": 49,
   "metadata": {},
   "outputs": [
    {
     "data": {
      "image/png": "[encoded data removed]",
      "text/plain": [
       "<Figure size 720x432 with 1 Axes>"
      ]
     },
     "metadata": {
      "needs_background": "light"
     },
     "output_type": "display_data"
    }
   ],
   "source": [
    "plt.subplots(figsize=(10,6))\n",
    "sns.countplot(x='pd_year',hue='severity',data=df_cleaned)\n",
    "plt.title(\"Distribution of Severity levels in each year\")\n",
    "plt.xlabel('publish date year')\n",
    "plt.show()"
   ]
  },
  {
   "cell_type": "code",
   "execution_count": 50,
   "metadata": {},
   "outputs": [
    {
     "data": {
      "image/png": "[encoded data removed]",
      "text/plain": [
       "<Figure size 720x432 with 1 Axes>"
      ]
     },
     "metadata": {
      "needs_background": "light"
     },
     "output_type": "display_data"
    }
   ],
   "source": [
    "plt.subplots(figsize=(10,6))\n",
    "sns.countplot(x='dd_year',color = 'darkred',hue='severity',data=df_cleaned)\n",
    "plt.xlabel('due date year')\n",
    "plt.show()"
   ]
  },
  {
   "cell_type": "code",
   "execution_count": 51,
   "metadata": {},
   "outputs": [
    {
     "data": {
      "image/png": "[encoded data removed]",
      "text/plain": [
       "<Figure size 720x432 with 1 Axes>"
      ]
     },
     "metadata": {
      "needs_background": "light"
     },
     "output_type": "display_data"
    }
   ],
   "source": [
    "plt.subplots(figsize=(10,6))\n",
    "sns.countplot(x='pd_year',color='green',hue='complexity',data=df_cleaned)\n",
    "plt.xlabel('publish_date_year')\n",
    "plt.show()"
   ]
  },
  {
   "cell_type": "code",
   "execution_count": 52,
   "metadata": {},
   "outputs": [
    {
     "data": {
      "image/png": "[encoded data removed]",
      "text/plain": [
       "<Figure size 720x432 with 1 Axes>"
      ]
     },
     "metadata": {
      "needs_background": "light"
     },
     "output_type": "display_data"
    }
   ],
   "source": [
    "plt.subplots(figsize=(10,6))\n",
    "sns.countplot(x='dd_year',hue='complexity',data=df_cleaned)\n",
    "plt.xlabel('due_date_year')\n",
    "plt.show()"
   ]
  },
  {
   "cell_type": "code",
   "execution_count": 53,
   "metadata": {},
   "outputs": [
    {
     "data": {
      "image/png": "[encoded data removed]",
      "text/plain": [
       "<Figure size 720x432 with 1 Axes>"
      ]
     },
     "metadata": {
      "needs_background": "light"
     },
     "output_type": "display_data"
    }
   ],
   "source": [
    "plt.subplots(figsize=(10,6))\n",
    "sns.countplot(x='pd_year',hue='vector',data=df_cleaned)\n",
    "plt.xlabel('publish_date_year')\n",
    "plt.show()"
   ]
  },
  {
   "cell_type": "code",
   "execution_count": 54,
   "metadata": {},
   "outputs": [
    {
     "data": {
      "image/png": "[encoded data removed]",
      "text/plain": [
       "<Figure size 720x432 with 1 Axes>"
      ]
     },
     "metadata": {
      "needs_background": "light"
     },
     "output_type": "display_data"
    }
   ],
   "source": [
    "plt.subplots(figsize=(10,6))\n",
    "sns.countplot(x='dd_year',hue='vector',data=df_cleaned)\n",
    "plt.xlabel('due_date_year')\n",
    "plt.show()"
   ]
  },
  {
   "cell_type": "code",
   "execution_count": 55,
   "metadata": {},
   "outputs": [
    {
     "data": {
      "image/png": "[encoded data removed]",
      "text/plain": [
       "<Figure size 360x360 with 1 Axes>"
      ]
     },
     "metadata": {},
     "output_type": "display_data"
    }
   ],
   "source": [
    "x=df_cleaned['complexity'].value_counts()\n",
    "plt.figure(figsize=(5,5))\n",
    "label = ['LOW','HIGH']\n",
    "c=['b','c']\n",
    "plt.pie(x, labels=label,colors=c,startangle=90,shadow=True,explode = (0,0.1),radius = 1.2,autopct='%.1f%%')\n",
    "plt.legend()\n",
    "plt.show()"
   ]
  },
  {
   "cell_type": "code",
   "execution_count": 56,
   "metadata": {},
   "outputs": [
    {
     "data": {
      "image/png": "[encoded data removed]",
      "text/plain": [
       "<Figure size 360x360 with 1 Axes>"
      ]
     },
     "metadata": {},
     "output_type": "display_data"
    }
   ],
   "source": [
    "x=df_cleaned['vector'].value_counts()\n",
    "plt.figure(figsize=(5,5))\n",
    "label = ['NETWORK','LOCAL','ADJACENT_NETWORK']\n",
    "c=['r','g','y']\n",
    "plt.pie(x, labels=label,colors=c,startangle=90,shadow=True,radius = 1.2,autopct='%.1f%%')\n",
    "plt.legend()\n",
    "plt.show()"
   ]
  },
  {
   "cell_type": "code",
   "execution_count": 57,
   "metadata": {},
   "outputs": [
    {
     "data": {
      "image/png": "[encoded data removed]",
      "text/plain": [
       "<Figure size 432x288 with 1 Axes>"
      ]
     },
     "metadata": {
      "needs_background": "light"
     },
     "output_type": "display_data"
    }
   ],
   "source": [
    "plt.hist(df_cleaned['grp'],color='red',rwidth=0.8)\n",
    "plt.xlabel(\"Group associated with vulnerability\")\n",
    "plt.ylabel(\"Frequency\")\n",
    "plt.title(\"Histogram Plot\")\n",
    "plt.show()"
   ]
  },
  {
   "cell_type": "code",
   "execution_count": 63,
   "metadata": {},
   "outputs": [
    {
     "data": {
      "text/plain": [
       "<matplotlib.axes._subplots.AxesSubplot at 0x1197c0f40>"
      ]
     },
     "execution_count": 63,
     "metadata": {},
     "output_type": "execute_result"
    },
    {
     "data": {
      "image/png": "[encoded data removed]",
      "text/plain": [
       "<Figure size 432x288 with 1 Axes>"
      ]
     },
     "metadata": {
      "needs_background": "light"
     },
     "output_type": "display_data"
    }
   ],
   "source": [
    "df_cleaned['cvss'].plot(kind='box')"
   ]
  },
  {
   "cell_type": "code",
   "execution_count": 64,
   "metadata": {},
   "outputs": [
    {
     "data": {
      "text/plain": [
       "<matplotlib.axes._subplots.AxesSubplot at 0x11a449610>"
      ]
     },
     "execution_count": 64,
     "metadata": {},
     "output_type": "execute_result"
    },
    {
     "data": {
      "image/png": "[encoded data removed]",
      "text/plain": [
       "<Figure size 432x288 with 1 Axes>"
      ]
     },
     "metadata": {
      "needs_background": "light"
     },
     "output_type": "display_data"
    }
   ],
   "source": [
    "df_cleaned['grp'].plot(kind='box')"
   ]
  },
  {
   "cell_type": "code",
   "execution_count": 58,
   "metadata": {},
   "outputs": [],
   "source": [
    "from sklearn import preprocessing\n",
    "label_encoder = preprocessing.LabelEncoder()"
   ]
  },
  {
   "cell_type": "code",
   "execution_count": 59,
   "metadata": {},
   "outputs": [
    {
     "name": "stderr",
     "output_type": "stream",
     "text": [
      "<ipython-input-59-f0a776b73a0b>:1: SettingWithCopyWarning: \n",
      "A value is trying to be set on a copy of a slice from a DataFrame.\n",
      "Try using .loc[row_indexer,col_indexer] = value instead\n",
      "\n",
      "See the caveats in the documentation: https://pandas.pydata.org/pandas-docs/stable/user_guide/indexing.html#returning-a-view-versus-a-copy\n",
      "  df_cleaned['vendor_project'] = label_encoder.fit_transform(df_cleaned['vendor_project'])\n",
      "<ipython-input-59-f0a776b73a0b>:2: SettingWithCopyWarning: \n",
      "A value is trying to be set on a copy of a slice from a DataFrame.\n",
      "Try using .loc[row_indexer,col_indexer] = value instead\n",
      "\n",
      "See the caveats in the documentation: https://pandas.pydata.org/pandas-docs/stable/user_guide/indexing.html#returning-a-view-versus-a-copy\n",
      "  df_cleaned['product'] = label_encoder.fit_transform(df_cleaned['product'])\n",
      "<ipython-input-59-f0a776b73a0b>:3: SettingWithCopyWarning: \n",
      "A value is trying to be set on a copy of a slice from a DataFrame.\n",
      "Try using .loc[row_indexer,col_indexer] = value instead\n",
      "\n",
      "See the caveats in the documentation: https://pandas.pydata.org/pandas-docs/stable/user_guide/indexing.html#returning-a-view-versus-a-copy\n",
      "  df_cleaned['cwe'] = label_encoder.fit_transform(df_cleaned['cwe'])\n",
      "<ipython-input-59-f0a776b73a0b>:4: SettingWithCopyWarning: \n",
      "A value is trying to be set on a copy of a slice from a DataFrame.\n",
      "Try using .loc[row_indexer,col_indexer] = value instead\n",
      "\n",
      "See the caveats in the documentation: https://pandas.pydata.org/pandas-docs/stable/user_guide/indexing.html#returning-a-view-versus-a-copy\n",
      "  df_cleaned['vector'] = label_encoder.fit_transform(df_cleaned['vector'])\n"
     ]
    }
   ],
   "source": [
    "df_cleaned['vendor_project'] = label_encoder.fit_transform(df_cleaned['vendor_project'])\n",
    "df_cleaned['product'] = label_encoder.fit_transform(df_cleaned['product'])\n",
    "df_cleaned['cwe'] = label_encoder.fit_transform(df_cleaned['cwe'])\n",
    "df_cleaned['vector'] = label_encoder.fit_transform(df_cleaned['vector'])"
   ]
  },
  {
   "cell_type": "code",
   "execution_count": 60,
   "metadata": {},
   "outputs": [
    {
     "data": {
      "text/plain": [
       "<matplotlib.axes._subplots.AxesSubplot at 0x11b06d6d0>"
      ]
     },
     "execution_count": 60,
     "metadata": {},
     "output_type": "execute_result"
    },
    {
     "data": {
      "image/png": "[encoded data removed]",
      "text/plain": [
       "<Figure size 864x432 with 2 Axes>"
      ]
     },
     "metadata": {
      "needs_background": "light"
     },
     "output_type": "display_data"
    }
   ],
   "source": [
    "corr = df_cleaned.corr()\n",
    "plt.figure(figsize=(12,6))\n",
    "sns.heatmap(corr,annot=True,cmap=\"RdYlGn\")"
   ]
  },
  {
   "cell_type": "code",
   "execution_count": null,
   "metadata": {},
   "outputs": [],
   "source": []
  }
 ],
 "metadata": {
  "kernelspec": {
   "display_name": "Python 3",
   "language": "python",
   "name": "python3"
  },
  "language_info": {
   "codemirror_mode": {
    "name": "ipython",
    "version": 3
   },
   "file_extension": ".py",
   "mimetype": "text/x-python",
   "name": "python",
   "nbconvert_exporter": "python",
   "pygments_lexer": "ipython3",
   "version": "3.8.3"
  }
 },
 "nbformat": 4,
 "nbformat_minor": 4
}
