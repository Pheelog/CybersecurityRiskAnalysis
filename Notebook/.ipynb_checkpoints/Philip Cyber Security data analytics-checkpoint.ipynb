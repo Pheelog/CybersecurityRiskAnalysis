{
 "cells": [
  {
   "cell_type": "code",
   "execution_count": null,
   "id": "e93cb8c8",
   "metadata": {},
   "outputs": [],
   "source": [
    "import numpy as np\n",
    "import pandas as pd\n",
    "import zipfile\n",
    "import os\n",
    "\n",
    "import matplotlib.pyplot as plt\n",
    "import seaborn as sns"
   ]
  },
  {
   "cell_type": "code",
   "execution_count": null,
   "id": "1f27774a",
   "metadata": {},
   "outputs": [],
   "source": [
    "# Path to the zip file\n",
    "zip_path = \"archive.zip\"\n",
    "\n",
    "# Directory to extract the zip file\n",
    "extract_dir = r\"C:\\Users\\DELL\\Documents\\Hamoye\\Team project\\Project\"\n",
    "\n",
    "# Extract the zip file\n",
    "with zipfile.ZipFile(zip_path, 'r') as zip_ref:\n",
    "    zip_ref.extractall(extract_dir)\n",
    "\n",
    "# Get a list of all CSV files in the extracted directory\n",
    "csv_files = [file for file in os.listdir(extract_dir) if file.endswith('.csv')]\n",
    "\n",
    "# Combine the datasets\n",
    "df = pd.concat([pd.read_csv(os.path.join(extract_dir, file)) for file in csv_files])\n",
    "\n",
    "# Optional: Reset the index\n",
    "df.reset_index(drop=True, inplace=True)"
   ]
  },
  {
   "cell_type": "code",
   "execution_count": null,
   "id": "64c9e4fe",
   "metadata": {
    "scrolled": false
   },
   "outputs": [],
   "source": [
    "df.head()"
   ]
  },
  {
   "cell_type": "markdown",
   "id": "4e2862ff",
   "metadata": {},
   "source": [
    "## Information on the data frame\n",
    "\n",
    "- cve_id: This column represents the unique identifier for each vulnerability entry. It is stored as string data.\n",
    "\n",
    "- vendor_project: This column contains the name or identifier of the vendor or project associated with the vulnerability. It is stored as string data.\n",
    "\n",
    "- product: This column denotes the specific product or software that is affected by the vulnerability. It is stored as string data.\n",
    "\n",
    "- vulnerability_name: This column provides the name or description of the vulnerability itself. It is stored as string data.\n",
    "\n",
    "- date_added: This column represents the date when the vulnerability was added or discovered. It is stored as a date data type.\n",
    "\n",
    "- short_description: This column contains a brief summary or description of the vulnerability. It is stored as string data.\n",
    "\n",
    "- required_action: This column specifies the recommended action or steps to be taken to address the vulnerability. It is stored as string data.\n",
    "\n",
    "- due_date: This column denotes the deadline or due date for taking action to mitigate the vulnerability. It is stored as a date data type.\n",
    "\n",
    "- notes: This column indicates whether there are any additional notes or comments associated with the vulnerability. It is stored as string data.\n",
    "\n",
    "- grp: This column represents a grouping or categorization of vulnerabilities. It is stored as a numeric (float) data type.\n",
    "\n",
    "- pub_date: This column denotes the date when the vulnerability was publicly disclosed or made known. It is stored as a date data type.\n",
    "\n",
    "- cvss: This column contains the Common Vulnerability Scoring System (CVSS) score, which provides a standardized measure of vulnerability severity. It is stored as a numeric (float) data type.\n",
    "\n",
    "- cwe: This column represents the Common Weakness Enumeration (CWE) ID associated with the vulnerability. It is stored as string data.\n",
    "\n",
    "- vector: This column describes the vector or method of exploitation for the vulnerability. It is stored as string data.\n",
    "\n",
    "- complexity: This column indicates the complexity level of exploiting the vulnerability. It is stored as string data.\n",
    "\n",
    "- severity: This column represents the severity level assigned to the vulnerability. It is stored as string data."
   ]
  },
  {
   "cell_type": "markdown",
   "id": "4ee2120e",
   "metadata": {},
   "source": [
    "From the dataset, I noticed that the 'cve_id' column had duplicate.\n",
    "There are a few possible reasons why the 'cve_id' might be repeated across the datasets:\n",
    "- The datasets were created from different sources, and the same vulnerability name was assigned a different cve_id by each source.\n",
    "- The datasets were created at different times, and the same vulnerability name was assigned a new cve_id when it was patched.\n",
    "- The datasets were created by different people, and some people made mistakes when entering the data."
   ]
  },
  {
   "cell_type": "code",
   "execution_count": null,
   "id": "f292ff07",
   "metadata": {
    "scrolled": true
   },
   "outputs": [],
   "source": [
    "# Group the data by vulnerability_name and collect unique cve_id values within each group\n",
    "duplicate_vulnerabilities = df.groupby('vulnerability_name')['cve_id'].unique()\n",
    "\n",
    "# Filter the duplicate vulnerabilities\n",
    "duplicate_vulnerabilities = duplicate_vulnerabilities[duplicate_vulnerabilities.apply(lambda x: len(x) > 1)]\n",
    "\n",
    "# Print the vulnerability_name and corresponding cve_id values with duplicates\n",
    "if not duplicate_vulnerabilities.empty:\n",
    "    print(\"Vulnerability names with different cve_id:\")\n",
    "    for vulnerability_name, cve_ids in duplicate_vulnerabilities.iteritems():\n",
    "        print(\"Vulnerability Name:\", vulnerability_name)\n",
    "        print(\"CVE IDs:\", cve_ids)\n",
    "        print()\n",
    "else:\n",
    "    print(\"No vulnerability names with different cve_id found.\")\n"
   ]
  },
  {
   "cell_type": "markdown",
   "id": "e3f5e625",
   "metadata": {},
   "source": [
    "**Observation**\n",
    "- vulnerability names were assigned a different cve_id by different source"
   ]
  },
  {
   "cell_type": "code",
   "execution_count": null,
   "id": "02885126",
   "metadata": {},
   "outputs": [],
   "source": [
    "# View the number of rows and number of columns\n",
    "df.shape"
   ]
  },
  {
   "cell_type": "code",
   "execution_count": null,
   "id": "dad9808c",
   "metadata": {
    "scrolled": false
   },
   "outputs": [],
   "source": [
    "# View the summary of the data\n",
    "df.describe(include = 'all')"
   ]
  },
  {
   "cell_type": "code",
   "execution_count": null,
   "id": "5d2d9b9b",
   "metadata": {},
   "outputs": [],
   "source": [
    "# A display of the columns, non-null count and the dtypes per column\n",
    "df.info()"
   ]
  },
  {
   "cell_type": "code",
   "execution_count": null,
   "id": "f07356a7",
   "metadata": {},
   "outputs": [],
   "source": [
    "# A better view of the number of null entries per column\n",
    "df.isnull().sum()"
   ]
  },
  {
   "cell_type": "markdown",
   "id": "8b19ba13",
   "metadata": {},
   "source": [
    "### Dealing with the null entries"
   ]
  },
  {
   "cell_type": "code",
   "execution_count": null,
   "id": "9085f8b6",
   "metadata": {},
   "outputs": [],
   "source": [
    "# Drop the \"notes\" column\n",
    "df.drop('notes', axis=1, inplace=True)"
   ]
  },
  {
   "cell_type": "markdown",
   "id": "4bddabc9",
   "metadata": {},
   "source": [
    "Upon thorough examination of the data frame, I suspected that for rows with the same \"cve_id,\" the corresponding values in other columns are identical, a check to know if that is true"
   ]
  },
  {
   "cell_type": "code",
   "execution_count": null,
   "id": "c9685fa8",
   "metadata": {},
   "outputs": [],
   "source": [
    "# Group the data by cve_id and count the number of unique values in each column\n",
    "grouped_df = df.groupby('cve_id').nunique()\n",
    "\n",
    "# Check if all columns have the same number of unique values for each cve_id\n",
    "identical = grouped_df.iloc[:, 1:].eq(grouped_df.iloc[:, 1:].count(axis=0)).all().all()\n",
    "\n",
    "if identical:\n",
    "    print(\"The suspicion holds true. Rows with the same 'cve_id' have identical values across other columns.\")\n",
    "else:\n",
    "    print(\"The suspicion does not hold true. Rows with the same 'cve_id' have differing values across other columns.\")"
   ]
  },
  {
   "cell_type": "code",
   "execution_count": null,
   "id": "5e551b5a",
   "metadata": {},
   "outputs": [],
   "source": [
    "df.isnull().sum()"
   ]
  },
  {
   "cell_type": "code",
   "execution_count": null,
   "id": "9222a534",
   "metadata": {},
   "outputs": [],
   "source": [
    "# group-wise imputation of missing values by replacing them with the first non-null value within each group\n",
    "def impute_group(group):\n",
    "    if group.notna().any().all():\n",
    "        return group.fillna(group.dropna().iloc[0])\n",
    "    else:\n",
    "        return group\n",
    "\n",
    "df1 = df.groupby('cve_id').apply(impute_group)\n",
    "\n",
    "# Reset the index after grouping\n",
    "df1.reset_index(drop=True, inplace=True)"
   ]
  },
  {
   "cell_type": "code",
   "execution_count": null,
   "id": "8de41597",
   "metadata": {},
   "outputs": [],
   "source": [
    "df1.isnull().sum()"
   ]
  },
  {
   "cell_type": "markdown",
   "id": "eedd38a3",
   "metadata": {},
   "source": [
    "- The groupby() function groups the data by cve_id.\n",
    "- The nunique() function counts the number of unique values in each column of the grouped data.\n",
    "- The eq() function checks if each column of the grouped data has the same number of unique values.\n",
    "- The all() function checks if all the values in a Boolean array are True.\n",
    "- The print() function prints the results to the console.\n",
    "- The def function defines a function called impute_group().\n",
    "- The impute_group() function imputes missing values in a group by replacing them with the first non-null value in the group.\n",
    "- The apply() function applies the impute_group() function to each group of the data.\n",
    "- The reset_index() function resets the index of the data after grouping."
   ]
  },
  {
   "cell_type": "code",
   "execution_count": null,
   "id": "f8a7a6ca",
   "metadata": {},
   "outputs": [],
   "source": [
    "# Remove missing values\n",
    "df1_cleaned = df1.dropna()"
   ]
  },
  {
   "cell_type": "code",
   "execution_count": null,
   "id": "a6c47791",
   "metadata": {},
   "outputs": [],
   "source": [
    "df1_cleaned.isnull().sum()"
   ]
  },
  {
   "cell_type": "code",
   "execution_count": null,
   "id": "45a04350",
   "metadata": {
    "scrolled": false
   },
   "outputs": [],
   "source": [
    "# Group by 'cve_id' and check if entries in other columns are not uniform throughout the group\n",
    "non_uniform_groups = df1_cleaned.groupby('cve_id').transform(lambda x: x.nunique() > 1).any(axis=1)\n",
    "\n",
    "# Get the rows with non-uniform 'cve_id' groups\n",
    "non_uniform_rows = df1_cleaned[non_uniform_groups]\n",
    "\n",
    "# Get the unique 'cve_id' groups where entries in other columns are not uniform\n",
    "non_uniform_cve_groups = non_uniform_rows.groupby('cve_id').apply(lambda x: x.drop_duplicates()).reset_index(drop=True)\n",
    "\n",
    "# Set display options to show all columns and rows\n",
    "pd.set_option('display.max_columns', None)\n",
    "pd.set_option('display.max_rows', None)\n",
    "pd.set_option('display.max_colwidth', None)\n",
    "\n",
    "# Print the non-uniform 'cve_id' groups\n",
    "non_uniform_cve_groups\n"
   ]
  },
  {
   "cell_type": "code",
   "execution_count": null,
   "id": "ac92ee88",
   "metadata": {},
   "outputs": [],
   "source": [
    "unique_cve_ids = non_uniform_cve_groups['cve_id'].unique()\n",
    "print(unique_cve_ids)"
   ]
  },
  {
   "cell_type": "code",
   "execution_count": null,
   "id": "16b2f197",
   "metadata": {},
   "outputs": [],
   "source": [
    "non_uniform_cve_groups.shape"
   ]
  },
  {
   "cell_type": "code",
   "execution_count": null,
   "id": "b840df34",
   "metadata": {},
   "outputs": [],
   "source": [
    "df1_cleaned.shape"
   ]
  },
  {
   "cell_type": "code",
   "execution_count": null,
   "id": "86a4bbd6",
   "metadata": {},
   "outputs": [],
   "source": [
    "df1_cleaned.dtypes"
   ]
  },
  {
   "cell_type": "markdown",
   "id": "5b748e0e",
   "metadata": {},
   "source": [
    "## EDA"
   ]
  },
  {
   "cell_type": "markdown",
   "id": "7263a890",
   "metadata": {},
   "source": [
    "### Identify unique vulnerabilities"
   ]
  },
  {
   "cell_type": "code",
   "execution_count": null,
   "id": "c5768633",
   "metadata": {},
   "outputs": [],
   "source": [
    "# Create a new column combining relevant columns to identify unique vulnerabilities\n",
    "df1_cleaned['unique_vulnerability'] = df1_cleaned['cve_id'].astype(str) + '_' + df1_cleaned['vendor_project'] + '_' + df1_cleaned['product'] + '_' + df1_cleaned['vulnerability_name']\n",
    "\n",
    "# Identify unique vulnerabilities\n",
    "unique_vulnerabilities = df1_cleaned['unique_vulnerability'].unique()\n",
    "\n",
    "# Print the number of unique vulnerabilities\n",
    "print(\"Number of unique vulnerabilities:\", len(unique_vulnerabilities))\n"
   ]
  },
  {
   "cell_type": "markdown",
   "id": "b6b3a3af",
   "metadata": {},
   "source": [
    "#### Vulnerabilities by severity level"
   ]
  },
  {
   "cell_type": "code",
   "execution_count": null,
   "id": "6059f23b",
   "metadata": {},
   "outputs": [],
   "source": [
    "# Set a cool color palette\n",
    "colors = sns.color_palette(\"cool\")\n",
    "\n",
    "# Count vulnerabilities by severity level\n",
    "severity_counts = df['severity'].value_counts()\n",
    "\n",
    "# Create a bar plot with a larger figure size\n",
    "plt.figure(figsize=(20, 10))\n",
    "bars = plt.bar(severity_counts.index, severity_counts.values, color=colors)\n",
    "\n",
    "# Add count labels to each bar\n",
    "for bar in bars:\n",
    "    height = bar.get_height()\n",
    "    plt.text(bar.get_x() + bar.get_width() / 2, height, height, ha='center', va='bottom')\n",
    "\n",
    "plt.xlabel('Severity')\n",
    "plt.ylabel('Count')\n",
    "plt.title('Vulnerabilities by Severity Level')\n",
    "plt.xticks(rotation=90)\n",
    "plt.show()\n"
   ]
  },
  {
   "cell_type": "markdown",
   "id": "a1ab4735",
   "metadata": {},
   "source": [
    "### Analyzing the datasets to identify patterns or trends in the occurrence and severity of vulnerabilities\n",
    "Accessing changes in the frequency or distribution of vulnerabilities across the different dates, with the aim to identify areas of increased or decreased risk over time."
   ]
  },
  {
   "cell_type": "code",
   "execution_count": null,
   "id": "a2f30319",
   "metadata": {},
   "outputs": [],
   "source": [
    "# Convert date columns to datetime data type\n",
    "date_columns = ['date_added', 'due_date', 'pub_date']\n",
    "df1_cleaned[date_columns] = df1_cleaned[date_columns].apply(pd.to_datetime)\n",
    "\n",
    "# Group vulnerabilities by date and count the occurrences\n",
    "vulnerability_counts = df1_cleaned.groupby('date_added').size()"
   ]
  },
  {
   "cell_type": "code",
   "execution_count": null,
   "id": "bd5fb625",
   "metadata": {},
   "outputs": [],
   "source": [
    "# Plot the vulnerability occurrence trend\n",
    "plt.figure(figsize=(20, 10))\n",
    "vulnerability_counts.plot(kind='line', marker='o')\n",
    "plt.title('Vulnerability Occurrence Trend')\n",
    "plt.xlabel('Date')\n",
    "plt.ylabel('Occurrences')\n",
    "plt.xticks(rotation=0)\n",
    "plt.show()"
   ]
  },
  {
   "cell_type": "code",
   "execution_count": null,
   "id": "3a1dccd1",
   "metadata": {},
   "outputs": [],
   "source": []
  },
  {
   "cell_type": "code",
   "execution_count": null,
   "id": "f2308b36",
   "metadata": {},
   "outputs": [],
   "source": []
  }
 ],
 "metadata": {
  "kernelspec": {
   "display_name": "Python 3 (ipykernel)",
   "language": "python",
   "name": "python3"
  },
  "language_info": {
   "codemirror_mode": {
    "name": "ipython",
    "version": 3
   },
   "file_extension": ".py",
   "mimetype": "text/x-python",
   "name": "python",
   "nbconvert_exporter": "python",
   "pygments_lexer": "ipython3",
   "version": "3.9.7"
  }
 },
 "nbformat": 4,
 "nbformat_minor": 5
}
